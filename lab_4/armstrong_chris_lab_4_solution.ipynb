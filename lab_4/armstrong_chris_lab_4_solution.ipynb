{
 "cells": [
  {
   "cell_type": "markdown",
   "id": "e4533dff",
   "metadata": {},
   "source": [
    "# Lab 4"
   ]
  },
  {
   "cell_type": "code",
   "execution_count": 43,
   "id": "8dabb2b2",
   "metadata": {},
   "outputs": [],
   "source": [
    "\n",
    "\n",
    "\n",
    "\n",
    "# --- !!! IMPORTANT !!! --- #\n",
    "\n",
    "\n",
    "\n",
    "\n",
    "# Set the working directory.\n",
    "\n",
    "# Path must be absolute, cannot use '~/analyses'.\n",
    "os.chdir('/home/helios/analyses/lab_4/batches')\n",
    "\n",
    "\n",
    "\n"
   ]
  },
  {
   "cell_type": "code",
   "execution_count": 48,
   "id": "e9a0cbbe",
   "metadata": {},
   "outputs": [
    {
     "ename": "ImportError",
     "evalue": "attempted relative import with no known parent package",
     "output_type": "error",
     "traceback": [
      "\u001b[0;31m---------------------------------------------------------------------------\u001b[0m",
      "\u001b[0;31mImportError\u001b[0m                               Traceback (most recent call last)",
      "Input \u001b[0;32mIn [48]\u001b[0m, in \u001b[0;36m<cell line: 8>\u001b[0;34m()\u001b[0m\n\u001b[1;32m      1\u001b[0m \u001b[38;5;66;03m# Imports (should be alphabetized)\u001b[39;00m\n\u001b[1;32m      2\u001b[0m \n\u001b[1;32m      3\u001b[0m \u001b[38;5;66;03m# import sys\u001b[39;00m\n\u001b[0;32m   (...)\u001b[0m\n\u001b[1;32m      6\u001b[0m \n\u001b[1;32m      7\u001b[0m \u001b[38;5;66;03m# Relative imports first\u001b[39;00m\n\u001b[0;32m----> 8\u001b[0m \u001b[38;5;28;01mfrom\u001b[39;00m \u001b[38;5;21;01m.\u001b[39;00m \u001b[38;5;28;01mimport\u001b[39;00m OSUtils\n\u001b[1;32m     10\u001b[0m \u001b[38;5;66;03m# File I/O\u001b[39;00m\n\u001b[1;32m     11\u001b[0m \u001b[38;5;28;01mimport\u001b[39;00m \u001b[38;5;21;01mos\u001b[39;00m\n",
      "\u001b[0;31mImportError\u001b[0m: attempted relative import with no known parent package"
     ]
    }
   ],
   "source": [
    "# Imports (should be alphabetized)\n",
    "\n",
    "# import sys\n",
    "\n",
    "# sys.path.append('/home/helios/git_repos/pib792/lab_4/library/python/')\n",
    "\n",
    "# Relative imports first\n",
    "from . import OSUtils\n",
    "\n",
    "# File I/O\n",
    "import os\n",
    "\n",
    "# Plotting\n",
    "import matplotlib.pyplot as plt\n",
    "import numpy as np\n",
    "\n",
    "# # Regular expressions\n",
    "# import re\n",
    "\n",
    "# Batch IDs\n",
    "import uuid"
   ]
  },
  {
   "cell_type": "code",
   "execution_count": 35,
   "id": "7ed63f15",
   "metadata": {},
   "outputs": [],
   "source": [
    "# First, define a batch ID.\n",
    "batch_id = uuid.uuid4()"
   ]
  },
  {
   "cell_type": "code",
   "execution_count": 21,
   "id": "c3f396e6",
   "metadata": {},
   "outputs": [],
   "source": [
    "# Create a variable to hold the batch folder.\n",
    "# Note the str(batch_id) typecast.\n",
    "batch_folder = os.getcwd() + '/' + str(batch_id)\n",
    "\n",
    "# Create the batch folder and enter it.\n",
    "os.mkdir(batch_folder)\n",
    "os.chdir(batch_folder)"
   ]
  },
  {
   "cell_type": "code",
   "execution_count": null,
   "id": "53aa6c01",
   "metadata": {},
   "outputs": [],
   "source": []
  }
 ],
 "metadata": {
  "kernelspec": {
   "display_name": "pib792",
   "language": "python",
   "name": "pib792"
  },
  "language_info": {
   "codemirror_mode": {
    "name": "ipython",
    "version": 3
   },
   "file_extension": ".py",
   "mimetype": "text/x-python",
   "name": "python",
   "nbconvert_exporter": "python",
   "pygments_lexer": "ipython3",
   "version": "3.10.5"
  }
 },
 "nbformat": 4,
 "nbformat_minor": 5
}
