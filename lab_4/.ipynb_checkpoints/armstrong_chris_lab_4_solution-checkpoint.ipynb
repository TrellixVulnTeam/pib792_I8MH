{
 "cells": [
  {
   "cell_type": "markdown",
   "id": "e4533dff",
   "metadata": {},
   "source": [
    "# Lab 4"
   ]
  },
  {
   "cell_type": "code",
   "execution_count": null,
   "id": "e9a0cbbe",
   "metadata": {},
   "outputs": [],
   "source": [
    "# Imports (should be alphabetized)\n",
    "\n",
    "# Relative imports first\n",
    "from library.python import OSUtils\n",
    "from library.python import GenomeUtils\n",
    "from library.python import RequestUtils\n",
    "\n",
    "# Globbing (file pattern searching)\n",
    "import glob\n",
    "\n",
    "# File I/O\n",
    "import os\n",
    "\n",
    "# Plotting\n",
    "import matplotlib.pyplot as plt\n",
    "import numpy as np\n",
    "\n",
    "# # Regular expressions\n",
    "# import re\n",
    "\n",
    "# System calls\n",
    "import subprocess\n",
    "\n",
    "# Batch IDs\n",
    "import uuid"
   ]
  },
  {
   "cell_type": "code",
   "execution_count": null,
   "id": "21303eef",
   "metadata": {},
   "outputs": [],
   "source": [
    "\n",
    "\n",
    "\n",
    "\n",
    "# --- !!! IMPORTANT !!! --- #\n",
    "\n",
    "\n",
    "\n",
    "\n",
    "# Set the home directory.\n",
    "home_directory = '/home/helios/'\n",
    "\n",
    "\n",
    "\n"
   ]
  },
  {
   "cell_type": "code",
   "execution_count": null,
   "id": "d23d9051",
   "metadata": {},
   "outputs": [],
   "source": [
    "\n",
    "\n",
    "\n",
    "\n",
    "# --- !!! IMPORTANT !!! --- #\n",
    "\n",
    "\n",
    "\n",
    "\n",
    "# Set the working directory.\n",
    "\n",
    "# Path must be absolute, cannot use '~/analyses'.\n",
    "os.chdir(home_directory + 'lab_4/')\n",
    "\n",
    "\n",
    "\n"
   ]
  },
  {
   "cell_type": "code",
   "execution_count": null,
   "id": "7ed63f15",
   "metadata": {},
   "outputs": [],
   "source": [
    "# First, define a batch ID.\n",
    "# Note the str(batch_id) typecast.\n",
    "batch_id = str(uuid.uuid4())"
   ]
  },
  {
   "cell_type": "code",
   "execution_count": null,
   "id": "c3f396e6",
   "metadata": {},
   "outputs": [],
   "source": [
    "# Create a variable to hold the batch folder.\n",
    "batch_folder = os.getcwd() + '/batches/' + batch_id\n",
    "\n",
    "# Create the batch folder and enter it.\n",
    "os.mkdir(batch_folder)\n",
    "os.chdir(batch_folder)"
   ]
  },
  {
   "cell_type": "code",
   "execution_count": null,
   "id": "53aa6c01",
   "metadata": {},
   "outputs": [],
   "source": [
    "# Make sure we're in the right folder.\n",
    "print(os.getcwd())"
   ]
  },
  {
   "cell_type": "markdown",
   "id": "659171bd",
   "metadata": {},
   "source": [
    "# Step 1 - Get the data from NIH"
   ]
  },
  {
   "cell_type": "code",
   "execution_count": null,
   "id": "d3b86a43",
   "metadata": {},
   "outputs": [],
   "source": [
    "# Instantiate\n",
    "OU = OSUtils.OSUtils()\n",
    "RU = RequestUtils.RequestUtils()"
   ]
  },
  {
   "cell_type": "code",
   "execution_count": null,
   "id": "66645153",
   "metadata": {},
   "outputs": [],
   "source": [
    "# The URL to try.\n",
    "dwnld = 'https://www.ncbi.nlm.nih.gov/geo/download/?acc=GSE116334&format=file'"
   ]
  },
  {
   "cell_type": "code",
   "execution_count": null,
   "id": "0caf391a",
   "metadata": {},
   "outputs": [],
   "source": [
    "# Set the output folder for this step.\n",
    "\n",
    "# Notice that we do not os.chdir(os.getcwd() + '/nih_pull/')\n",
    "# because we want to stay in the top-level folder\n",
    "# during our pipeline run.  Same logic goes for all\n",
    "# following steps.\n",
    "output_folder = os.getcwd() + '/nih_pull/'"
   ]
  },
  {
   "cell_type": "code",
   "execution_count": null,
   "id": "b1ffc4b1",
   "metadata": {},
   "outputs": [],
   "source": [
    "# Establish where to download URLs.\n",
    "url_path = OU.pathalize(\n",
    "    pth = output_folder\n",
    ")"
   ]
  },
  {
   "cell_type": "code",
   "execution_count": null,
   "id": "c8f90499",
   "metadata": {},
   "outputs": [],
   "source": [
    "# Create the output folder.\n",
    "os.mkdir(url_path)"
   ]
  },
  {
   "cell_type": "code",
   "execution_count": null,
   "id": "8d244388",
   "metadata": {},
   "outputs": [],
   "source": [
    "# Can we download the URL?\n",
    "# If so, download the URL and decompress it.\n",
    "if RU.is_downloadable(url = dwnld):\n",
    "    \n",
    "    # Download.\n",
    "    RU.download_url(\n",
    "        where = url_path,\n",
    "        url = dwnld\n",
    "    )\n",
    "    \n",
    "    # Decompress the tar.\n",
    "    OU.decompress_tar(\n",
    "        source_file = url_path + RU.filename_from_url(\n",
    "            url = dwnld\n",
    "        ),\n",
    "        where = output_folder\n",
    "    )\n",
    "    \n",
    "    # Decompress each of the .gz files.\n",
    "    for f in OU.file_list_by_extension(\n",
    "        p = OU.homogenize_path(\n",
    "                p = output_folder\n",
    "            ), \n",
    "        xtnsn = 'gz'\n",
    "        ):\n",
    "\n",
    "            OU.decompress_gzip(\n",
    "                source_file = f,\n",
    "                where = url_path\n",
    "            )"
   ]
  },
  {
   "cell_type": "markdown",
   "id": "6f278d87",
   "metadata": {},
   "source": [
    "# Step 2 - Find peaks by category"
   ]
  },
  {
   "cell_type": "code",
   "execution_count": null,
   "id": "78baa2a4",
   "metadata": {},
   "outputs": [],
   "source": [
    "# Set the output folder for this step.\n",
    "output_folder = os.getcwd() + '/peaks_by_category/'"
   ]
  },
  {
   "cell_type": "code",
   "execution_count": null,
   "id": "6ef36888",
   "metadata": {},
   "outputs": [],
   "source": [
    "# Create the output folder.\n",
    "os.mkdir(output_folder)"
   ]
  },
  {
   "cell_type": "code",
   "execution_count": null,
   "id": "c89e658a",
   "metadata": {},
   "outputs": [],
   "source": [
    "# TODO: fix later to remove race condition!\n",
    "\n",
    "# Let's use the R script from our library\n",
    "# to find the peaks by category.\n",
    "\n",
    "# This step may take a second.\n",
    "\n",
    "# Note that there are other subprocess commands\n",
    "# that we can use to delay the next step in the script\n",
    "# until this one finishes.\n",
    "subprocess.Popen(\"Rscript \" + home + library/R/peaks_by_category.r -c ctrl\\(.*?\\)narrowPeak$ -t salt\\(.*?\\)narrowPeak$ -l ./nih_pull/ -w \" + output_folder, shell = True)"
   ]
  },
  {
   "cell_type": "markdown",
   "id": "5fe632ff",
   "metadata": {},
   "source": [
    "# Step 3 - Use BLAST to assess the Mosi and random sequences"
   ]
  },
  {
   "cell_type": "code",
   "execution_count": null,
   "id": "d2e9ace1",
   "metadata": {},
   "outputs": [],
   "source": [
    "# Set the output folder for this step.\n",
    "output_folder = os.getcwd() + '/blast/'"
   ]
  },
  {
   "cell_type": "code",
   "execution_count": null,
   "id": "68e76b69",
   "metadata": {},
   "outputs": [],
   "source": [
    "# Create the output folder.\n",
    "os.mkdir(output_folder)"
   ]
  },
  {
   "cell_type": "code",
   "execution_count": null,
   "id": "9202a6b7",
   "metadata": {},
   "outputs": [],
   "source": [
    "# Set where the BLAST database is.\n",
    "blastdb = '/home/helios/analyses/genomes/a_thaliana/blastdbs/blastdbs'"
   ]
  },
  {
   "cell_type": "code",
   "execution_count": null,
   "id": "39efa9e2",
   "metadata": {},
   "outputs": [],
   "source": [
    "# Instantiate\n",
    "GU = GenomeUtils.GenomeUtils()"
   ]
  },
  {
   "cell_type": "code",
   "execution_count": null,
   "id": "4acb9897",
   "metadata": {},
   "outputs": [],
   "source": [
    "# We have to tell the interpreter where BLAST is\n",
    "# because it was a custom build.\n",
    "GU.blast_path = '/home/helios/built/ncbi-blast-2.13.0+/'"
   ]
  },
  {
   "cell_type": "code",
   "execution_count": null,
   "id": "aed63ab8",
   "metadata": {},
   "outputs": [],
   "source": [
    "# Write the Mosi sequence to file.\n",
    "GU.write_fastas(\n",
    "    custom_name = 'Mosi_sequence',\n",
    "    sequences = ['AGCCTAGCTG'],\n",
    "    where = output_folder\n",
    ")"
   ]
  },
  {
   "cell_type": "code",
   "execution_count": null,
   "id": "3947bb1f",
   "metadata": {},
   "outputs": [],
   "source": [
    "# Write some random sequences to file.\n",
    "GU.write_fastas(\n",
    "    sequences = GU.random_motif(\n",
    "        n = 20,\n",
    "        t = 5\n",
    "    ),\n",
    "    where = output_folder\n",
    ")"
   ]
  },
  {
   "cell_type": "code",
   "execution_count": null,
   "id": "72842b94",
   "metadata": {},
   "outputs": [],
   "source": [
    "# Define the FASTA files.\n",
    "fasta_files = glob.glob(output_folder + '*.fa')"
   ]
  },
  {
   "cell_type": "code",
   "execution_count": null,
   "id": "52c9fa8a",
   "metadata": {},
   "outputs": [],
   "source": [
    "# Try the sequences against BlastDB.\n",
    "\n",
    "# Use the sequence as the output file name.\n",
    "for sequence in fasta_files:\n",
    "    GU.call_blast(\n",
    "        db_path = blastdb,\n",
    "        name = sequence.split('/')[-1],\n",
    "        sequence = sequence,\n",
    "        write_to = output_folder\n",
    "    )"
   ]
  },
  {
   "cell_type": "code",
   "execution_count": null,
   "id": "5114e73b",
   "metadata": {},
   "outputs": [],
   "source": [
    "# TODO: Fix later to remove race condition!\n",
    "\n",
    "# Parse the BLAST output.\n",
    "for sequence in fasta_files:\n",
    "    GU.parse_blast(\n",
    "        where = sequence + '.BLAST.results',\n",
    "        write_to = output_folder\n",
    "    )"
   ]
  },
  {
   "cell_type": "markdown",
   "id": "47995cae",
   "metadata": {},
   "source": [
    "# Step 4 - See what matches between a given sequence and the experimental data"
   ]
  },
  {
   "cell_type": "code",
   "execution_count": null,
   "id": "f7b93516",
   "metadata": {},
   "outputs": [],
   "source": [
    "# Set the output folder for this step.\n",
    "output_folder = os.getcwd() + '/treatment_match/'"
   ]
  },
  {
   "cell_type": "code",
   "execution_count": null,
   "id": "84690872",
   "metadata": {},
   "outputs": [],
   "source": [
    "# Create the output folder.\n",
    "os.mkdir(output_folder)"
   ]
  },
  {
   "cell_type": "code",
   "execution_count": null,
   "id": "ebfd402a",
   "metadata": {},
   "outputs": [],
   "source": [
    "# Define where the BLAST matches are as well\n",
    "# as the peaks file.\n",
    "blast_matches = os.getcwd() + '/blast/*.matches'\n",
    "peaks = os.getcwd() + '/peaks_by_category/*.peaks'"
   ]
  },
  {
   "cell_type": "code",
   "execution_count": null,
   "id": "4075307f",
   "metadata": {},
   "outputs": [],
   "source": [
    "# Get the blast matches and the peaks files.\n",
    "match_list = []\n",
    "\n",
    "for m in glob.glob(blast_matches):\n",
    "    match_list.append(m)\n",
    "\n",
    "peaks_list = []\n",
    "\n",
    "for p in glob.glob(peaks):\n",
    "    peaks_list.append(p)"
   ]
  },
  {
   "cell_type": "code",
   "execution_count": null,
   "id": "034a9e00",
   "metadata": {
    "scrolled": true
   },
   "outputs": [],
   "source": [
    "# Go over each BLAST matches file and compare\n",
    "# to each peaks file.\n",
    "for m in match_list:\n",
    "    for p in peaks_list:\n",
    "        subprocess.Popen(\"Rscript ../../library/R/blast_to_peaks.r -b \" + m + \" -p \" + p + \" -w \" + output_folder, shell = True)"
   ]
  },
  {
   "cell_type": "code",
   "execution_count": null,
   "id": "b7a9b396",
   "metadata": {},
   "outputs": [],
   "source": []
  }
 ],
 "metadata": {
  "kernelspec": {
   "display_name": "pib792",
   "language": "python",
   "name": "pib792"
  },
  "language_info": {
   "codemirror_mode": {
    "name": "ipython",
    "version": 3
   },
   "file_extension": ".py",
   "mimetype": "text/x-python",
   "name": "python",
   "nbconvert_exporter": "python",
   "pygments_lexer": "ipython3",
   "version": "3.10.5"
  }
 },
 "nbformat": 4,
 "nbformat_minor": 5
}
