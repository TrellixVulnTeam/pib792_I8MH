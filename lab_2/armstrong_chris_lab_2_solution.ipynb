{
 "cells": [
  {
   "cell_type": "markdown",
   "id": "e4533dff",
   "metadata": {},
   "source": [
    "# Lab 2"
   ]
  },
  {
   "cell_type": "code",
   "execution_count": 1,
   "id": "e9a0cbbe",
   "metadata": {},
   "outputs": [],
   "source": [
    "# Imports (should be alphabetized)\n",
    "\n",
    "# # Characterizing the number of nucleotides (non-standard import name)\n",
    "# import Bio\n",
    "\n",
    "# File I/O\n",
    "import os\n",
    "\n",
    "# Unzipping\n",
    "import gzip\n",
    "\n",
    "# Plotting\n",
    "import matplotlib.pyplot as plt\n",
    "import numpy as np\n",
    "\n",
    "# Regular expressions\n",
    "import re\n",
    "\n",
    "# Getting a chromosome from GenBank (Ensembl)\n",
    "import requests\n",
    "\n",
    "# Shell copying\n",
    "import shutil"
   ]
  },
  {
   "cell_type": "code",
   "execution_count": 3,
   "id": "0fd647df",
   "metadata": {},
   "outputs": [],
   "source": [
    "\n",
    "\n",
    "\n",
    "\n",
    "# --- !!! IMPORTANT !!! --- #\n",
    "\n",
    "\n",
    "\n",
    "\n",
    "# Set the working directory.\n",
    "\n",
    "# Path must be absolute, cannot use '~/analyses'.\n",
    "os.chdir('/home/aeros/analyses/lab_2')\n",
    "\n",
    "\n",
    "\n"
   ]
  },
  {
   "cell_type": "code",
   "execution_count": 4,
   "id": "bfd6f712",
   "metadata": {},
   "outputs": [],
   "source": [
    "# Get the chromomosome of interest.\n",
    "r = requests.get(\n",
    "    'http://ftp.ensembl.org/pub/release-107/fasta/homo_sapiens/dna/Homo_sapiens.GRCh38.dna.chromosome.MT.fa.gz'\n",
    ")\n",
    "\n",
    "with open('MT.gz', 'wb') as f:\n",
    "    f.write(r.content)"
   ]
  },
  {
   "cell_type": "code",
   "execution_count": 5,
   "id": "a3586d76",
   "metadata": {},
   "outputs": [],
   "source": [
    "# Unzip the download.\n",
    "with gzip.open('MT.gz', 'rb') as f_in:\n",
    "    with open('MT.fz', 'wb') as f_out:\n",
    "        shutil.copyfileobj(f_in,f_out)\n",
    "\n",
    "# Load the file.\n",
    "with open('MT.fz', 'r') as s:\n",
    "    sequence = s.readlines()\n",
    "\n",
    "# Get rid of header.\n",
    "sequence = sequence[1:]\n",
    "\n",
    "# Strip the newlines and join.\n",
    "sequence = ''.join([i.strip() for i in sequence])"
   ]
  },
  {
   "cell_type": "code",
   "execution_count": 6,
   "id": "bac5ac73",
   "metadata": {},
   "outputs": [],
   "source": [
    "# Define \"CpG island\".\n",
    "\n",
    "# (Testing)\n",
    "# region_length = 10\n",
    "region_length = 250\n",
    "cg_content_cutoff = 0.5"
   ]
  },
  {
   "cell_type": "code",
   "execution_count": 7,
   "id": "ec76ef58",
   "metadata": {},
   "outputs": [],
   "source": [
    "# Define a function to calculate observed-to-expected CG content.\n",
    "# Source: https://en.wikipedia.org/wiki/CpG_site#CpG_islands\n",
    "def ote(\n",
    "    n_c, \n",
    "    n_g, \n",
    "    s_l\n",
    "):\n",
    "    \n",
    "    # n_c - # of Cs\n",
    "    # n_g - # of Gs\n",
    "    # s_l - sequence length\n",
    "    \n",
    "    return (n_c*n_g)/s_l"
   ]
  },
  {
   "cell_type": "code",
   "execution_count": 8,
   "id": "1ad103ca",
   "metadata": {
    "scrolled": true
   },
   "outputs": [],
   "source": [
    "# Main search process\n",
    "\n",
    "# Go through the sequence\n",
    "# using the region length to\n",
    "# find Cs and Gs, noting the \n",
    "# start and stop of each island.\n",
    "#\n",
    "# We need to account for matches that overlap,\n",
    "# and keep distances between end of one region\n",
    "# and beginning of a second region."
   ]
  },
  {
   "cell_type": "code",
   "execution_count": 9,
   "id": "fb9543fa",
   "metadata": {},
   "outputs": [],
   "source": [
    "# Define a list which will hold CpG island\n",
    "# information.\n",
    "\n",
    "# The list consists of tuples, where the first\n",
    "# coordinate is the start of the CpG island\n",
    "# and the second coordinate is the end of\n",
    "# the CpG island.\n",
    "CpG_islands = []"
   ]
  },
  {
   "cell_type": "code",
   "execution_count": 10,
   "id": "87f892d8",
   "metadata": {},
   "outputs": [],
   "source": [
    "# Search each chunk of the sequence, where the chunk\n",
    "# size is region_length.\n",
    "for i in range(0, len(sequence)-region_length):\n",
    "    \n",
    "    # Start by assuming no C or G content.\n",
    "    c_content = 0\n",
    "    g_content = 0\n",
    "    \n",
    "    # If we find an island, then we need to know\n",
    "    # where it starts and stops.\n",
    "    min_c_position = -1\n",
    "    min_g_position = -1\n",
    "    max_c_position = -1\n",
    "    max_g_position = -1\n",
    "    \n",
    "    # Search the region for C or G.\n",
    "    for m in re.finditer('C|G', sequence[i:i+region_length]):\n",
    "        \n",
    "        # If we match C or G, add to the respective\n",
    "        # C or G content.\n",
    "        if m.group() == 'C':\n",
    "            \n",
    "            # Add C content.\n",
    "            c_content += 1\n",
    "            \n",
    "            # This block only runs on the first C hit.\n",
    "            if min_c_position == -1:\n",
    "                min_c_position = m.start() + i\n",
    "            \n",
    "            # This block runs on every C hit.\n",
    "            if m.start() > max_c_position:\n",
    "                max_c_position = m.start() + i\n",
    "            \n",
    "        else:\n",
    "            \n",
    "            # Add G content.\n",
    "            g_content += 1\n",
    "            \n",
    "            # This block only runs on the first G hit.\n",
    "            if min_g_position == -1:\n",
    "                min_g_position = m.start() + i\n",
    "            \n",
    "            # This block runs on every G hit.\n",
    "            if m.start() > max_g_position:\n",
    "                max_g_position = m.start() + i\n",
    "    \n",
    "    # Both c_content and g_content must be > 0 in order\n",
    "    # for there to be a CpG island.\n",
    "    if c_content > 0 and g_content > 0:\n",
    "        \n",
    "        # Now check to see if we have an actual CpG island.\n",
    "        if (c_content + g_content)/region_length >= cg_content_cutoff and ote(n_c = c_content, n_g = g_content, s_l = region_length) >= 0.6:\n",
    "            \n",
    "            # (Optional)\n",
    "            # See what's getting added.\n",
    "            # print(sequence[i:i+region_length])\n",
    "            # print(min(min_c_position, min_g_position), max(max_c_position, max_g_position))\n",
    "            \n",
    "            # We have a CpG island, so record the start and stop positions.\n",
    "            CpG_islands.append((min(min_c_position, min_g_position), max(max_c_position, max_g_position)))\n",
    "\n",
    "# print(CpG_islands)"
   ]
  },
  {
   "cell_type": "code",
   "execution_count": 11,
   "id": "c3aa0cb4",
   "metadata": {},
   "outputs": [
    {
     "name": "stdout",
     "output_type": "stream",
     "text": [
      "[(294, 315), (295, 315), (302, 315), (303, 315), (1127, 1129), (1129, 1130), (1130, 1133), (2469, 2473), (2483, 2491), (2487, 2491), (2488, 2491), (3302, 3314), (3305, 3314), (3309, 3314), (3310, 3314), (3311, 3314), (3314, 3316), (3320, 3336), (3321, 3336), (3323, 3336), (3324, 3336), (3327, 3336), (3329, 3336), (3330, 3336), (3332, 3336), (3336, 3339), (3339, 3351), (3340, 3351), (3341, 3351), (3345, 3351), (3350, 3351), (3351, 3352), (3352, 3356), (3356, 3358), (3357, 3358), (3358, 3368), (3362, 3368), (3363, 3368), (3368, 3369), (3369, 3375), (3373, 3375), (3374, 3375), (3375, 3378), (3378, 3379), (3379, 3387), (3387, 3390), (3390, 3392), (3391, 3392), (3392, 3406), (3399, 3406), (3402, 3406), (3405, 3406), (3406, 3407), (3407, 3411), (3411, 3413), (3412, 3413), (3413, 3420), (3414, 3420), (3415, 3420), (3416, 3420), (3419, 3420), (3420, 3428), (3423, 3428), (3426, 3428), (3427, 3428), (3428, 3435), (3429, 3435), (3430, 3435), (3431, 3435), (3434, 3435), (3435, 3438), (3436, 3438), (3437, 3438), (3438, 3453), (3441, 3453), (3444, 3453), (3447, 3453), (3448, 3453), (3449, 3453), (3452, 3453), (3453, 3454), (3454, 3456), (3456, 3458), (3458, 3459), (3459, 3460), (3460, 3480), (3461, 3480), (3468, 3480), (3470, 3480), (3473, 3480), (3475, 3480), (3476, 3480), (3480, 3483), (3482, 3483), (3483, 3495), (3484, 3495), (3485, 3495), (3486, 3495), (3492, 3495), (3493, 3495), (3494, 3495), (3495, 3496), (3496, 3525), (3497, 3525), (3499, 3525), (3502, 3525), (3505, 3525), (3506, 3525), (3509, 3525), (3511, 3525), (3512, 3525), (3513, 3525), (3515, 3525), (3518, 3525), (3521, 3525), (3523, 3525), (3524, 3525), (3525, 3526), (3526, 3530), (5136, 5139), (5137, 5139), (5814, 5820), (5816, 5820), (5819, 5820), (5834, 5838), (5836, 5838), (5837, 5838), (5838, 5848), (6014, 6015), (6015, 6018), (6017, 6018), (6018, 6020), (6073, 6074), (6074, 6076), (6076, 6080), (6078, 6080), (6080, 6081), (6081, 6086), (6082, 6086), (6083, 6086), (6086, 6087), (6087, 6092), (6092, 6100), (6100, 6110), (6103, 6110), (6106, 6110), (6110, 6116), (6116, 6128), (6117, 6128), (6118, 6128), (6121, 6128), (6127, 6128), (6128, 6133), (6129, 6133), (6131, 6133), (6132, 6133), (6133, 6137), (6137, 6139), (6138, 6139), (6139, 6144), (6142, 6144), (6144, 6146), (6146, 6149), (6149, 6152), (6152, 6164), (6153, 6164), (6154, 6164), (6155, 6164), (6163, 6164), (6164, 6168), (6165, 6168), (6167, 6168), (6168, 6173), (6178, 6180), (6179, 6180), (6180, 6181), (6185, 6189), (6186, 6189), (6199, 6204), (6204, 6205), (6205, 6210), (6208, 6210), (6210, 6212), (6212, 6238), (6214, 6238), (6218, 6238), (6219, 6238), (6221, 6238), (6222, 6238), (6223, 6238), (6225, 6238), (6227, 6238), (6229, 6238), (6230, 6238), (6233, 6238), (6235, 6238), (6236, 6238), (6238, 6239), (6239, 6242), (6241, 6242), (6242, 6243), (6243, 6248), (6246, 6248), (6248, 6249), (6254, 6261), (6256, 6261), (6257, 6261), (6259, 6261), (6260, 6261), (6261, 6263), (6262, 6263), (6263, 6267), (6264, 6267), (6266, 6267), (6267, 6269), (6269, 6273), (6273, 6275), (6339, 6359), (6353, 6359), (6419, 6425), (6420, 6425), (7742, 7753), (7746, 7753), (7749, 7753), (7751, 7753), (7753, 7755), (7755, 7756), (7756, 7757), (7757, 7761), (7759, 7761), (7761, 7772), (7762, 7772), (7768, 7772), (7772, 7774), (7773, 7774), (7774, 7776), (7776, 7778), (7778, 7781), (7781, 7788), (7785, 7788), (7786, 7788), (7788, 7789), (7789, 7792), (7790, 7792), (7791, 7792), (7792, 7793), (9174, 9177), (9177, 9182), (9181, 9182), (9182, 9191), (9183, 9191), (9185, 9191), (9188, 9191), (9189, 9191), (9191, 9192), (9192, 9195), (9194, 9195), (9195, 9197), (9200, 9208), (9202, 9208), (9208, 9210), (9210, 9224), (9211, 9224), (9327, 9328), (9351, 9375), (9363, 9375), (9370, 9375), (9371, 9375), (9375, 9380), (9378, 9380), (9379, 9380), (9380, 9381), (9381, 9382), (9399, 9400), (9400, 9410), (9402, 9410), (9406, 9410), (9407, 9410), (12761, 12762), (12762, 12764), (12787, 12794), (12788, 12794), (12791, 12794), (12794, 12795), (12795, 12802), (12797, 12802), (12800, 12802), (12802, 12812), (12805, 12812), (12808, 12812), (12812, 12813), (12813, 12814), (12814, 12817), (12815, 12817), (12816, 12817), (12817, 12820), (12819, 12820), (12820, 12822), (12822, 12826), (12825, 12826), (12826, 12834), (12827, 12834), (12830, 12834), (12832, 12834), (12834, 12835), (12835, 12837), (12837, 12838), (12838, 12846), (12839, 12846), (12843, 12846), (12846, 12847), (12847, 12862), (12851, 12862), (12852, 12862), (12857, 12862), (12860, 12862), (12861, 12862), (12862, 12866), (12866, 12867), (12867, 12869), (12868, 12869), (12869, 12870), (12870, 12875), (12875, 12876), (12876, 12881), (12877, 12881), (12881, 12888), (12884, 12888), (12885, 12888), (12887, 12888), (12888, 12889), (12889, 12894), (12890, 12894), (12894, 12895), (12895, 12898), (12898, 12905), (12905, 12922), (12906, 12922), (12909, 12922), (12911, 12922), (12913, 12922), (12914, 12922), (12917, 12922), (12919, 12922), (12922, 12926), (12924, 12926), (12926, 12939), (12927, 12939), (12928, 12939), (12930, 12939), (12933, 12939), (12939, 12940), (12940, 12951), (12941, 12951), (12942, 12951), (12945, 12951), (12950, 12951), (12951, 12952), (12952, 12961), (12957, 12961), (12958, 12961), (12961, 12962), (12962, 12978), (12963, 12978), (12965, 12978), (12967, 12978), (12968, 12978), (12969, 12978), (12970, 12978), (12972, 12978), (12975, 12978), (12978, 12980), (12979, 12980), (12980, 12990), (12981, 12990), (12983, 12990), (12984, 12990), (12986, 12990), (12987, 12990), (12990, 12991), (12991, 12993), (12993, 12994), (12994, 12996), (12996, 12997), (12997, 12999), (12999, 13001), (13000, 13001), (13001, 13008), (13006, 13008), (13008, 13009), (13009, 13017), (13017, 13020), (13018, 13020), (13020, 13030), (13022, 13030), (14748, 14750), (14758, 14759), (14759, 14760), (14760, 14803), (14790, 14803), (14791, 14803), (14793, 14803), (14795, 14803), (14799, 14803), (14802, 14803), (14803, 14805), (14805, 14830), (14806, 14830), (14808, 14830), (14809, 14830), (14810, 14830), (14811, 14830), (14813, 14830), (14814, 14830), (14815, 14830), (14816, 14830), (14819, 14830), (14820, 14830), (14823, 14830), (14826, 14830), (14828, 14830), (14829, 14830), (14834, 14841), (14841, 14845), (14844, 14845), (14845, 14847), (14846, 14847), (14857, 14859), (16207, 16210), (16210, 16212), (16212, 16213), (16213, 16243), (16217, 16243), (16220, 16243), (16221, 16243), (16222, 16243), (16224, 16243), (16227, 16243), (16231, 16243), (16233, 16243), (16235, 16243), (16238, 16243), (16241, 16243), (16243, 16244), (16244, 16254), (16247, 16254), (16249, 16254), (16250, 16254), (16254, 16255), (16255, 16272), (16256, 16272), (16258, 16272), (16259, 16272), (16260, 16272), (16261, 16272), (16300, 16302), (16318, 16319)]\n"
     ]
    }
   ],
   "source": [
    "# Now take UNIQUE CpG islands.  Why?\n",
    "\n",
    "# We need to keep the islands in order (why?),\n",
    "# so we can't use CpG_islands = list(set(CpG_islands))\n",
    "\n",
    "# Instead, we'll use a slower solution.\n",
    "unique_CpG_islands = []\n",
    "\n",
    "for island in CpG_islands:\n",
    "    if island not in unique_CpG_islands:\n",
    "        unique_CpG_islands.append(island)\n",
    "\n",
    "# (Optional)\n",
    "print(unique_CpG_islands)"
   ]
  },
  {
   "cell_type": "code",
   "execution_count": 12,
   "id": "166a7592",
   "metadata": {},
   "outputs": [],
   "source": [
    "\n",
    "\n",
    "\n",
    "\n",
    "# --- OLD --- #\n",
    "\n",
    "\n",
    "\n",
    "\n",
    "# # We need to look for overlapping CpG islands to\n",
    "# # combine them.\n",
    "\n",
    "# # This isn't as hard as it sounds - the main thing\n",
    "# # is that we need to look at the distance between\n",
    "# # consecutive CpG islands and see if this distance\n",
    "# # is less than or equal to region_length.\n",
    "\n",
    "# # Define a new variable which will combine CpG islands\n",
    "# # when this condition is true.\n",
    "# unique_CpG_islands_combined = []\n",
    "\n",
    "# # Two cases\n",
    "\n",
    "# # (Edge case) We have only one CpG island.\n",
    "# if len(unique_CpG_islands) == 1:\n",
    "    \n",
    "#     # Simply store the only CpG island we have.\n",
    "#     unique_CpG_islands_combined.append(unique_CpG_islands[0])\n",
    "\n",
    "# # (Typical case) We have at least two CpG islands.\n",
    "# else:\n",
    "    \n",
    "#     # We will go over each CpG island, starting with\n",
    "#     # the second one, and determine if the next upstream\n",
    "#     # island is within region_length.  If so, combine\n",
    "#     # this island and the next.  If not, split this island\n",
    "#     # off.\n",
    "    \n",
    "#     # Create a helper variable to help us stored combined islands\n",
    "#     combined_helper = []\n",
    "    \n",
    "#     # Loop until the last island.\n",
    "#     for i in range(1, len(unique_CpG_islands)-1):\n",
    "        \n",
    "#         # Is the distance between this island and the next\n",
    "#         # greater than region_length?\n",
    "        \n",
    "#         # Simply calculate the distance between islands as we move through\n",
    "#         # the list of them.\n",
    "        \n",
    "#         # Always start by appending the current island.\n",
    "#         combined_helper.append(unique_CpG_islands[i])\n",
    "        \n",
    "#         # unique_CpG_islands[i+1][0] is the beginning of the i+1-th island\n",
    "#         # unique_CpG_islands[i][1] is the end of the i-th island\n",
    "#         if unique_CpG_islands[i+1][0] - unique_CpG_islands[i][1] + 1 > region_length:\n",
    "            \n",
    "#             # TODO: fix 3-14 CpG island?\n",
    "            \n",
    "#             # (Comment to show overlaps) Take the extremal points of combined_helper and\n",
    "#             # make a new, combined island.\n",
    "#             # unique_CpG_islands_combined.append((combined_helper[0][0], combined_helper[-1][1]))\n",
    "            \n",
    "#             # (Uncomment to show overlaps) Append the combined helper and reset it.\n",
    "#             unique_CpG_islands_combined.append(combined_helper)\n",
    "            \n",
    "#             combined_helper = []\n",
    "    \n",
    "# # (Optional)\n",
    "# for island in unique_CpG_islands_combined:\n",
    "#     print(island)\n",
    "\n",
    "\n",
    "\n",
    "# --- NEW --- #\n",
    "\n",
    "\n",
    "\n",
    "\n",
    "# Preserving variable names here...\n",
    "unique_CpG_islands_combined = unique_CpG_islands"
   ]
  },
  {
   "cell_type": "code",
   "execution_count": 13,
   "id": "3812e4a0",
   "metadata": {},
   "outputs": [],
   "source": [
    "# Let's define a function which will calculate the\n",
    "# distance between two given islands.\n",
    "def distance_between_islands(\n",
    "    island_one,\n",
    "    island_two\n",
    "):\n",
    "    \n",
    "    # island_one - a tuple which has start and stop positions\n",
    "    # island_two - ibid.\n",
    "    \n",
    "    return island_two[0]-island_one[1]"
   ]
  },
  {
   "cell_type": "markdown",
   "id": "bc93de29",
   "metadata": {},
   "source": [
    "# The part you should complete (what code from class examples can we use?)"
   ]
  },
  {
   "cell_type": "code",
   "execution_count": 14,
   "id": "89c2a3aa",
   "metadata": {
    "scrolled": true
   },
   "outputs": [
    {
     "data": {
      "image/png": "[encoded data removed]",
      "text/plain": [
       "<Figure size 1080x396 with 1 Axes>"
      ]
     },
     "metadata": {
      "needs_background": "light"
     },
     "output_type": "display_data"
    }
   ],
   "source": [
    "# Plot 1 - scatter plot\n",
    "\n",
    "# Note: a scatter plot only makes sense if we have more than\n",
    "# one CpG island.  Why?\n",
    "\n",
    "# Source (first example): https://www.w3schools.com/python/matplotlib_scatter.asp\n",
    "# Source (Example 1, plot size): https://pythonguides.com/matplotlib-increase-plot-size/#:~:text=Matplotlib%20increase%20plot%20size%20jupyter,-In%20this%20section&text=By%20default%2C%20the%20width%20is%206.4%20and%20the%20height%20is%204.8.\n",
    "\n",
    "# Adjust the plot size.\n",
    "plt.rcParams['figure.figsize'] = (15,5.5)\n",
    "\n",
    "# Create an x and a y list.\n",
    "x = []\n",
    "y = []\n",
    "\n",
    "# Start on the *second* island.\n",
    "\n",
    "# Why do we use a range command here?\n",
    "for i in range(1, len(unique_CpG_islands_combined)):\n",
    "    \n",
    "    # Establish island one and two.\n",
    "    i_one = unique_CpG_islands_combined[i-1]\n",
    "    i_two = unique_CpG_islands_combined[i]\n",
    "    \n",
    "    # Add the x-coordinate to x.\n",
    "    x.append(i_two[0])\n",
    "    \n",
    "    # Add the y-coordinate to y.\n",
    "    y.append(\n",
    "        distance_between_islands(\n",
    "            island_one = i_one,\n",
    "            island_two = i_two\n",
    "        )\n",
    "    )\n",
    "\n",
    "# Make the arrays and plot.\n",
    "x = np.array(x)\n",
    "y = np.array(y)\n",
    "\n",
    "plt.scatter(x, y)\n",
    "\n",
    "# Horizontal line at region_length.\n",
    "# Source: https://www.geeksforgeeks.org/plot-a-horizontal-line-in-matplotlib/\n",
    "plt.axhline(y = region_length, color = 'r', linestyle = '-')\n",
    "\n",
    "plt.title ('Distance between CpG islands vs. CpG island distance from telomere')\n",
    "plt.xlabel ('Distance from telomere')\n",
    "plt.ylabel ('Distance to next upstream CpG island')\n",
    "plt.show()"
   ]
  },
  {
   "cell_type": "code",
   "execution_count": 15,
   "id": "fb3acf20",
   "metadata": {},
   "outputs": [
    {
     "data": {
      "image/png": "[encoded data removed]",
      "text/plain": [
       "<Figure size 1080x396 with 1 Axes>"
      ]
     },
     "metadata": {
      "needs_background": "light"
     },
     "output_type": "display_data"
    }
   ],
   "source": [
    "# Plot 2 - bar plot\n",
    "\n",
    "# Source: https://www.tutorialspoint.com/matplotlib/matplotlib_bar_plot.htm\n",
    "\n",
    "# Note: we only have one chromosome to plot for this example.\n",
    "fig = plt.figure()\n",
    "ax = fig.add_axes([0,0,1,1])\n",
    "chromosome = ['MT']\n",
    "n_cpg_islands = [len(unique_CpG_islands_combined)]\n",
    "ax.bar(chromosome,n_cpg_islands)\n",
    "plt.show()"
   ]
  },
  {
   "cell_type": "code",
   "execution_count": 16,
   "id": "f184054a",
   "metadata": {},
   "outputs": [
    {
     "data": {
      "image/png": "[encoded data removed]",
      "text/plain": [
       "<Figure size 1080x396 with 1 Axes>"
      ]
     },
     "metadata": {
      "needs_background": "light"
     },
     "output_type": "display_data"
    }
   ],
   "source": [
    "# Plot 3 - histogram\n",
    "\n",
    "# Source: L2-2DViz-Sequencing-Plots notebook from Lecture 2\n",
    "\n",
    "# Define variables to hold the island lengths\n",
    "# and the largest island length.\n",
    "island_lengths = []\n",
    "max_island_length = 0\n",
    "\n",
    "# Go over each island.\n",
    "for island in unique_CpG_islands_combined:\n",
    "    \n",
    "    # What is the island length?\n",
    "    island_length = island[1]-island[0]+1\n",
    "    \n",
    "    # Save it.\n",
    "    island_lengths.append(island_length)\n",
    "    \n",
    "    # Is this island the longest?\n",
    "    if island_length > max_island_length:\n",
    "        max_island_length = island_length\n",
    "\n",
    "# Plot.\n",
    "plt.hist(island_lengths, bins=30)\n",
    "plt.title ('CpG Island Lengths')\n",
    "plt.xlabel('CpG island length (bp)')\n",
    "plt.ylabel('Count')\n",
    "\n",
    "# Give a little bit of room on the right side of\n",
    "# the x-axis.\n",
    "plt.xlim(0, max_island_length + 100)\n",
    "\n",
    "plt.show()"
   ]
  },
  {
   "cell_type": "code",
   "execution_count": null,
   "id": "7ed63f15",
   "metadata": {},
   "outputs": [],
   "source": []
  }
 ],
 "metadata": {
  "kernelspec": {
   "display_name": "pib792",
   "language": "python",
   "name": "pib792"
  },
  "language_info": {
   "codemirror_mode": {
    "name": "ipython",
    "version": 3
   },
   "file_extension": ".py",
   "mimetype": "text/x-python",
   "name": "python",
   "nbconvert_exporter": "python",
   "pygments_lexer": "ipython3",
   "version": "3.10.5"
  }
 },
 "nbformat": 4,
 "nbformat_minor": 5
}
