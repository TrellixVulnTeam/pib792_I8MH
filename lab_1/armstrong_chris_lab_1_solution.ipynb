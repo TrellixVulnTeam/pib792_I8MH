{
 "cells": [
  {
   "cell_type": "markdown",
   "id": "5093778b",
   "metadata": {},
   "source": [
    "# Lab 1"
   ]
  },
  {
   "cell_type": "code",
   "execution_count": 1,
   "id": "bb8dc605",
   "metadata": {},
   "outputs": [],
   "source": [
    "# Imports (should be alphabetized)\n",
    "\n",
    "# Characterizing the number of nucleotides (non-standard import name)\n",
    "import Bio\n",
    "\n",
    "# File I/O\n",
    "import os\n",
    "\n",
    "# Regular expressions\n",
    "import re\n",
    "\n",
    "# Getting a sequence from GenBank (Ensembl)\n",
    "import requests"
   ]
  },
  {
   "cell_type": "code",
   "execution_count": 2,
   "id": "f31320c6",
   "metadata": {},
   "outputs": [],
   "source": [
    "\n",
    "\n",
    "\n",
    "\n",
    "# --- !!! IMPORTANT !!! --- #\n",
    "\n",
    "\n",
    "\n",
    "\n",
    "# Set the working directory.\n",
    "\n",
    "# Path must be absolute, cannot use '~/analyses'.\n",
    "os.chdir('/home/aeros/analyses')\n",
    "\n",
    "\n",
    "\n"
   ]
  },
  {
   "cell_type": "markdown",
   "id": "e1199d0c",
   "metadata": {},
   "source": [
    "## Part A"
   ]
  },
  {
   "cell_type": "code",
   "execution_count": 3,
   "id": "e3086c9e",
   "metadata": {},
   "outputs": [
    {
     "data": {
      "text/plain": [
       "'/home/aeros/analyses'"
      ]
     },
     "execution_count": 3,
     "metadata": {},
     "output_type": "execute_result"
    }
   ],
   "source": [
    "# Get the current working directory.\n",
    "os.getcwd()"
   ]
  },
  {
   "cell_type": "code",
   "execution_count": 4,
   "id": "86c0e848",
   "metadata": {},
   "outputs": [
    {
     "data": {
      "text/plain": [
       "['blastdbs',\n",
       " 'lab_1',\n",
       " 'lecture_3',\n",
       " 'lab_4',\n",
       " 'lab_2',\n",
       " 'lab_5',\n",
       " 'git_repos',\n",
       " 'genomes']"
      ]
     },
     "execution_count": 4,
     "metadata": {},
     "output_type": "execute_result"
    }
   ],
   "source": [
    "# See what is in the current working directory.\n",
    "os.listdir()"
   ]
  },
  {
   "cell_type": "code",
   "execution_count": 5,
   "id": "a6b1ec80",
   "metadata": {},
   "outputs": [
    {
     "ename": "FileExistsError",
     "evalue": "[Errno 17] File exists: 'lab_1'",
     "output_type": "error",
     "traceback": [
      "\u001b[0;31m---------------------------------------------------------------------------\u001b[0m",
      "\u001b[0;31mFileExistsError\u001b[0m                           Traceback (most recent call last)",
      "Input \u001b[0;32mIn [5]\u001b[0m, in \u001b[0;36m<cell line: 4>\u001b[0;34m()\u001b[0m\n\u001b[1;32m      1\u001b[0m \u001b[38;5;66;03m# Make a directory for the lab.\u001b[39;00m\n\u001b[1;32m      2\u001b[0m \n\u001b[1;32m      3\u001b[0m \u001b[38;5;66;03m# Note the simple naming convention - all lowercase, underscores\u001b[39;00m\n\u001b[0;32m----> 4\u001b[0m \u001b[43mos\u001b[49m\u001b[38;5;241;43m.\u001b[39;49m\u001b[43mmkdir\u001b[49m\u001b[43m(\u001b[49m\u001b[38;5;124;43m'\u001b[39;49m\u001b[38;5;124;43mlab_1\u001b[39;49m\u001b[38;5;124;43m'\u001b[39;49m\u001b[43m)\u001b[49m\n",
      "\u001b[0;31mFileExistsError\u001b[0m: [Errno 17] File exists: 'lab_1'"
     ]
    }
   ],
   "source": [
    "# Make a directory for the lab.\n",
    "\n",
    "# Note the simple naming convention - all lowercase, underscores\n",
    "os.mkdir('lab_1')"
   ]
  },
  {
   "cell_type": "code",
   "execution_count": 6,
   "id": "6b5deb11",
   "metadata": {},
   "outputs": [],
   "source": [
    "# Rename the lab directory.\n",
    "os.rename('lab_1', 'lab_1_delete_me')"
   ]
  },
  {
   "cell_type": "code",
   "execution_count": 7,
   "id": "560ac703",
   "metadata": {},
   "outputs": [],
   "source": [
    "# Change to the new lab directory.\n",
    "os.chdir('./lab_1_delete_me')"
   ]
  },
  {
   "cell_type": "code",
   "execution_count": 8,
   "id": "a2a2692d",
   "metadata": {},
   "outputs": [
    {
     "ename": "FileNotFoundError",
     "evalue": "[Errno 2] No such file or directory: './lab_1_delete_me'",
     "output_type": "error",
     "traceback": [
      "\u001b[0;31m---------------------------------------------------------------------------\u001b[0m",
      "\u001b[0;31mFileNotFoundError\u001b[0m                         Traceback (most recent call last)",
      "Input \u001b[0;32mIn [8]\u001b[0m, in \u001b[0;36m<cell line: 2>\u001b[0;34m()\u001b[0m\n\u001b[1;32m      1\u001b[0m \u001b[38;5;66;03m# Attempt to remove the new lab directory.\u001b[39;00m\n\u001b[0;32m----> 2\u001b[0m \u001b[43mos\u001b[49m\u001b[38;5;241;43m.\u001b[39;49m\u001b[43mrmdir\u001b[49m\u001b[43m(\u001b[49m\u001b[38;5;124;43m'\u001b[39;49m\u001b[38;5;124;43m./lab_1_delete_me\u001b[39;49m\u001b[38;5;124;43m'\u001b[39;49m\u001b[43m)\u001b[49m\n",
      "\u001b[0;31mFileNotFoundError\u001b[0m: [Errno 2] No such file or directory: './lab_1_delete_me'"
     ]
    }
   ],
   "source": [
    "# Attempt to remove the new lab directory.\n",
    "os.rmdir('./lab_1_delete_me')"
   ]
  },
  {
   "cell_type": "markdown",
   "id": "add8efe3",
   "metadata": {},
   "source": [
    "## Part B"
   ]
  },
  {
   "cell_type": "code",
   "execution_count": 11,
   "id": "01d1c0e8",
   "metadata": {},
   "outputs": [],
   "source": [
    "# We will use Ensembl to retrieve the sequence for our\n",
    "# given gene.\n",
    "\n",
    "# See https://rest.ensembl.org/documentation/info/sequence_id\n",
    "# for more details about the API call that we will make.\n",
    "\n",
    "# Source: https://pypi.org/project/requests/\n",
    "# Source: https://rest.ensembl.org/documentation/info/sequence_id#python3basic"
   ]
  },
  {
   "cell_type": "code",
   "execution_count": 13,
   "id": "a59cb642",
   "metadata": {},
   "outputs": [
    {
     "name": "stdout",
     "output_type": "stream",
     "text": [
      "text/plain; charset=UTF-8\n",
      "UTF-8\n",
      "%GC in sequence:  3.547613605%\n",
      "%CG in sequence:  0.644445850%\n",
      "%AT in sequence:  8.190055593%\n"
     ]
    }
   ],
   "source": [
    "\n",
    "\n",
    "\n",
    "\n",
    "# --- SOLUTION 1 (Procedural, NOT abstracted) --- #\n",
    "\n",
    "\n",
    "\n",
    "\n",
    "# Make the GET request, sending headers indicating\n",
    "# that we are sending plain text.\n",
    "r = requests.get(\n",
    "    'https://rest.ensembl.org/sequence/id/ENSG00000157764', \n",
    "    headers = {\n",
    "        'Content-Type' : 'text/plain'\n",
    "    }\n",
    ")\n",
    "\n",
    "# Did the response come back correctly?\n",
    "if not r.ok:\n",
    "    \n",
    "    r.raise_for_status()\n",
    "    print('Request to Ensembl failed...')\n",
    "    \n",
    "else:\n",
    "    \n",
    "    # What kind of headers did we get back?\n",
    "    \n",
    "    # Note that requests should cast the response\n",
    "    # to a certain type based on the content-type\n",
    "    # header, i.e. a response with acontent-type \n",
    "    # of \"text/plain\" should be cast to a string.\n",
    "    print(r.headers['content-type'])\n",
    "    \n",
    "    # What kind of encoding is the response?\n",
    "    print(r.encoding)\n",
    "    \n",
    "    # Store the response as our sequence.\n",
    "    \n",
    "    # Good practice to strip out all newlines in\n",
    "    # the response.\n",
    "    sequence = r.text.strip()\n",
    "        \n",
    "    # Now create a dictionary to hold the position of\n",
    "    # all the subsequences that we are searching for.\n",
    "    subsequences = {\n",
    "        'GC': [],\n",
    "        'CG': [],\n",
    "        'AT': []\n",
    "    }\n",
    "    \n",
    "    # Iterate over the gene sequence and find the\n",
    "    # subsequences.\n",
    "    for m in re.finditer('GC|CG|AT', sequence):\n",
    "        \n",
    "        # For each match, store the start and end\n",
    "        # indices as a tuple.\n",
    "        \n",
    "        # Use m.group() to get the actual regex\n",
    "        # match.\n",
    "        subsequences[m.group()].append((m.start(), m.end()))\n",
    "    \n",
    "    # (Optional) Print the matches.\n",
    "    # print(subsequences)\n",
    "    \n",
    "    # Print the % of each subsequence.\n",
    "    \n",
    "    # f-strings are nice, see https://stackoverflow.com/a/28343785\n",
    "    # and https://stackoverflow.com/a/59591771\n",
    "    \n",
    "    # Show precision to 9 places as the human genome is on the order\n",
    "    # of billions of base pairs.\n",
    "    [print(f'%{k} in sequence: {(len(subsequences[k])/len(sequence))*100: .9f}%') for k in subsequences.keys()]"
   ]
  },
  {
   "cell_type": "code",
   "execution_count": 14,
   "id": "3e497b8c",
   "metadata": {},
   "outputs": [
    {
     "name": "stdout",
     "output_type": "stream",
     "text": [
      "text/plain; charset=UTF-8\n",
      "UTF-8\n",
      "%GC in sequence:  3.547613605%\n",
      "%CG in sequence:  0.644445850%\n",
      "%AT in sequence:  8.190055593%\n"
     ]
    }
   ],
   "source": [
    "\n",
    "\n",
    "\n",
    "\n",
    "# --- SOLUTION 2 (OOP, abstracted) --- #\n",
    "\n",
    "\n",
    "\n",
    "\n",
    "# Q: How could we eliminate waiting for the server request?\n",
    "\n",
    "# Define the class.\n",
    "class substringContent():\n",
    "    \n",
    "    \n",
    "    \"\"\"\n",
    "    Simple class for calculating percentage of a sequence\n",
    "    that consists of given subsequences.\n",
    "    \"\"\"\n",
    "    \n",
    "    \n",
    "    # Initialize with the state that we do not have\n",
    "    # a sequence to search.\n",
    "    def __init__(\n",
    "        self\n",
    "    ):\n",
    "        \n",
    "        sequence = False\n",
    "    \n",
    "    \n",
    "    # Get subsequence positions\n",
    "    def get_subsequence_positions(\n",
    "        self,\n",
    "        sbsqncs\n",
    "    ):\n",
    "        \n",
    "        \n",
    "        \"\"\"\n",
    "        Get the positions of given subsequences, \n",
    "        then set the attribute.\n",
    "        \"\"\"\n",
    "        \n",
    "        # sbsqncs (list of str) - The subsequences to look for\n",
    "        # in a given sequence\n",
    "        \n",
    "        # Note: no strong error checking here to enforce type\n",
    "        # on subsequences...\n",
    "        \n",
    "        \n",
    "        # Create a dictionary to hold the position of\n",
    "        # all the subsequences that we are searching for.\n",
    "        subsequences = {}\n",
    "        \n",
    "        for subseq in sbsqncs:\n",
    "            subsequences[subseq] = []\n",
    "        \n",
    "        # Iterate over the gene sequence and find the\n",
    "        # subsequences.\n",
    "        for m in re.finditer('|'.join(subsequences.keys()), self.sequence):\n",
    "\n",
    "            # For each match, store the start and end\n",
    "            # indices as a tuple.\n",
    "\n",
    "            # Use m.group() to get the actual regex\n",
    "            # match.\n",
    "            subsequences[m.group()].append((m.start(), m.end()))\n",
    "        \n",
    "        # Create the attribute.\n",
    "        self.subsequences = subsequences\n",
    "        \n",
    "        \n",
    "    # Making a request to Ensembl\n",
    "    def request_to_ensembl(\n",
    "        self,\n",
    "        idntfr\n",
    "    ):\n",
    "        \n",
    "        \n",
    "        \"\"\"\n",
    "        Given an identifier, ask Ensembl for the sequence,\n",
    "        if it exists.\n",
    "        \"\"\"\n",
    "        \n",
    "        # idntfr (str) - Ensemble ID\n",
    "        \n",
    "        \n",
    "        # Make the GET request, sending headers indicating\n",
    "        # that we are sending plain text.\n",
    "        r = requests.get(\n",
    "            'https://rest.ensembl.org/sequence/id/' + idntfr, \n",
    "            headers = {\n",
    "                'Content-Type' : 'text/plain'\n",
    "            }\n",
    "        )\n",
    "        \n",
    "        # Note that it is better to not break the block below into \n",
    "        # its own method because typically server responses are\n",
    "        # handled right away in logic to help identify faulty,\n",
    "        # useless, or otherwise problematic responses.\n",
    "        \n",
    "        # Only set the attribute if the request was successful.\n",
    "        if r.ok:\n",
    "            \n",
    "            # What kind of headers did we get back?\n",
    "    \n",
    "            # Note that requests should cast the response\n",
    "            # to a certain type based on the content-type\n",
    "            # header, i.e. a response with acontent-type \n",
    "            # of \"text/plain\" should be cast to a string.\n",
    "            print(r.headers['content-type'])\n",
    "\n",
    "            # What kind of encoding is the response?\n",
    "            print(r.encoding)\n",
    "\n",
    "            # Store the response as our sequence.\n",
    "\n",
    "            # Good practice to strip out all newlines in\n",
    "            # the response.\n",
    "            self.sequence = r.text.strip()\n",
    "    \n",
    "    \n",
    "    # Print the % of each subsequence.\n",
    "    def print_percentage_subsequence(\n",
    "        self\n",
    "    ):\n",
    "        \n",
    "        \n",
    "        \"\"\"\n",
    "        Take the subsequences and see what percentage of\n",
    "        the overall sequence they comprise.\n",
    "        \"\"\"\n",
    "        \n",
    "        \n",
    "        # f-strings are nice, see https://stackoverflow.com/a/28343785\n",
    "        # and https://stackoverflow.com/a/59591771\n",
    "\n",
    "        # Show precision to 9 places as the human genome is on the order\n",
    "        # of billions of base pairs.\n",
    "        [print(f'%{k} in sequence: {(len(self.subsequences[k])/len(self.sequence))*100: .9f}%') for k in self.subsequences.keys()]\n",
    "\n",
    "\n",
    "# Instantiate.\n",
    "sc = substringContent()\n",
    "\n",
    "# Make the request to Ensembl.\n",
    "sc.request_to_ensembl(\n",
    "    idntfr = 'ENSG00000157764'\n",
    ")\n",
    "\n",
    "# (Optional) See what we got.\n",
    "# print(sC.sequence)\n",
    "\n",
    "# Get the positions of the subsequences\n",
    "# of interest.\n",
    "sc.get_subsequence_positions(\n",
    "    sbsqncs = ['GC', 'CG', 'AT']\n",
    ")\n",
    "\n",
    "# (Optional) Did we get anything from that?\n",
    "# print(sc.subsequences)\n",
    "\n",
    "# See what the percentages are.\n",
    "sc.print_percentage_subsequence()"
   ]
  },
  {
   "cell_type": "code",
   "execution_count": null,
   "id": "dd776bb7",
   "metadata": {},
   "outputs": [],
   "source": []
  }
 ],
 "metadata": {
  "kernelspec": {
   "display_name": "pib792",
   "language": "python",
   "name": "pib792"
  },
  "language_info": {
   "codemirror_mode": {
    "name": "ipython",
    "version": 3
   },
   "file_extension": ".py",
   "mimetype": "text/x-python",
   "name": "python",
   "nbconvert_exporter": "python",
   "pygments_lexer": "ipython3",
   "version": "3.10.5"
  }
 },
 "nbformat": 4,
 "nbformat_minor": 5
}
