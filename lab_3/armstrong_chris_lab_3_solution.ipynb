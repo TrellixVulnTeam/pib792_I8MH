{
 "cells": [
  {
   "cell_type": "markdown",
   "metadata": {},
   "source": [
    "# Note: the image folder \"Bruned images\" was re-named to \"burn_images\""
   ]
  },
  {
   "cell_type": "markdown",
   "metadata": {
    "id": "OPANzZu_aBUv"
   },
   "source": [
    "# Importing Packages"
   ]
  },
  {
   "cell_type": "code",
   "execution_count": 1,
   "metadata": {
    "id": "7fyWsgtmaB4f"
   },
   "outputs": [],
   "source": [
    "import matplotlib.pyplot as plt\n",
    "import matplotlib.image as mpimg\n",
    "import numpy as np\n",
    "from PIL import Image \n",
    "from sklearn import neighbors\n",
    "from sklearn import metrics\n",
    "\n",
    "# New import\n",
    "\n",
    "# For finding image files\n",
    "import glob"
   ]
  },
  {
   "cell_type": "markdown",
   "metadata": {
    "id": "MTDaEYiKanlz"
   },
   "source": [
    "# 1. Create a list with the names called image_files"
   ]
  },
  {
   "cell_type": "code",
   "execution_count": 2,
   "metadata": {
    "id": "J1-I7vO4ALVW"
   },
   "outputs": [],
   "source": [
    "# Old solution\n",
    "\n",
    "# images = ['nimg1.jpeg','nimg2.jpeg','nimg3.jpeg','nimg4.jpeg','nimg5.jpeg','nimg6.jpeg','img1.jpg','img2.jpg','img3.jpg','img4.jpg','img5.jpg','img6.jpg','img7.jpg','img8.jpg','img9.jpg','img10.jpg',\n",
    "#          'img11.jpg','img12.jpg','img13.jpg','img14.jpg','img15.jpg','img16.jpg','img17.jpg','img18.jpg','img19.jpg','img20.jpg',\n",
    "#          'img21.jpg','img22.jpg','img23.jpg','img24.jpg','img25.jpg','img26.jpg','img27.jpg','img28.jpg','img29.jpg','img30.jpg',\n",
    "#          'img31.jpg','img32.jpg','img33.jpg','img34.jpg','img35.jpg','img36.jpg','img37.jpg','img38.jpg','img39.jpg','img40.jpg',\n",
    "#          'img41.jpg','img42.jpg','img43.jpg','img44.jpg','img45.jpg','img46.jpg','img47.jpg','img48.jpg','img49.jpg','img50.jpg',\n",
    "#          'img51.jpg','img52.jpg','img53.jpg','img54.jpg','img55.jpg','img56.jpg','img57.jpg','img58.jpg','img59.jpg','img60.jpg',\n",
    "#          ]\n",
    "\n",
    "# New solution\n",
    "\n",
    "# Glob for all JPEGs.\n",
    "images = glob.glob('./burn_images/Training_data/*')"
   ]
  },
  {
   "cell_type": "code",
   "execution_count": 3,
   "metadata": {
    "id": "X-yrTAnoRRvI"
   },
   "outputs": [],
   "source": [
    "normal_skin = []\n",
    "burn_skin = []"
   ]
  },
  {
   "cell_type": "markdown",
   "metadata": {
    "id": "hcX2n-lVZYxr"
   },
   "source": [
    "# 2. Creating the scatter plot"
   ]
  },
  {
   "cell_type": "code",
   "execution_count": 4,
   "metadata": {
    "id": "WuVs5NlpRUz8"
   },
   "outputs": [],
   "source": [
    "for image in images:\n",
    "    img = mpimg.imread(image)\n",
    "    RGBtuple = np.array(img).mean(axis=(0,1))\n",
    "    avgRed = RGBtuple[0]\n",
    "    avgGreen = RGBtuple[1]\n",
    "    avgBlue = RGBtuple[2]\n",
    "    perc_green = avgGreen/(avgGreen+avgBlue+avgRed)\n",
    "    perc_blue = avgBlue/(avgGreen+avgBlue+avgRed)\n",
    "    normal_skin.append(perc_green)\n",
    "    burn_skin.append(perc_blue)"
   ]
  },
  {
   "cell_type": "code",
   "execution_count": 5,
   "metadata": {
    "colab": {
     "base_uri": "https://localhost:8080/",
     "height": 295
    },
    "id": "cc79K1l42ULS",
    "outputId": "711db150-8097-4b96-f8fd-5f1cb3a4144a"
   },
   "outputs": [
    {
     "data": {
      "image/png": "[encoded data removed]",
      "text/plain": [
       "<Figure size 432x288 with 1 Axes>"
      ]
     },
     "metadata": {
      "needs_background": "light"
     },
     "output_type": "display_data"
    }
   ],
   "source": [
    "plt.scatter(normal_skin,burn_skin,s=100,facecolors='red',edgecolor='black',alpha=0.9,marker='s')\n",
    "\n",
    "plt.xlabel('Percentage of Normal skin')\n",
    "plt.ylabel('Percentage of Burn skin')\n",
    "plt.title('Burn segmentation')\n",
    "plt.legend(['Burns'])\n",
    "plt.show()"
   ]
  },
  {
   "cell_type": "markdown",
   "metadata": {
    "id": "fXgmDdblZTJj"
   },
   "source": [
    "# 3. Now create an array of strings called training_target with the category of each."
   ]
  },
  {
   "cell_type": "code",
   "execution_count": 6,
   "metadata": {
    "id": "SVmwGEp-Rm7R"
   },
   "outputs": [],
   "source": [
    "# Old solution\n",
    "\n",
    "# training_target = ['normal','normal','normal','normal','normal','normal',\n",
    "#                   'burn','burn','burn','burn','burn','burn','burn','burn','burn','burn',\n",
    "#                   'burn','burn','burn','burn','burn','burn','burn','burn','burn','burn',\n",
    "#                   'burn','burn','burn','burn','burn','burn','burn','burn','burn','burn',\n",
    "#                   'burn','burn','burn','burn','burn','burn','burn','burn','burn','burn',\n",
    "#                   'burn','burn','burn','burn','burn','burn','burn','burn','burn','burn',\n",
    "#                   'burn','burn','burn','burn','burn','burn','burn','burn','burn','burn']\n",
    "\n",
    "# New Solution\n",
    "\n",
    "# All of the images are burn images, except a few.\n",
    "# So, put some logic in for those.\n",
    "\n",
    "# Define a variable to hold the labels.\n",
    "training_target = []\n",
    "\n",
    "# Go over each image.\n",
    "for i in images:\n",
    "    if i in ['./burn_images/Training_data/nimg1.jpeg', './burn_images/Training_data/nimg2.jpeg', './burn_images/Training_data/nimg3.jpeg', './burn_images/Training_data/nimg4.jpeg', './burn_images/Training_data/nimg5.jpeg', './burn_images/Training_data/nimg6.jpeg']:\n",
    "        training_target.append('normal')\n",
    "    else:\n",
    "        training_target.append('burn')"
   ]
  },
  {
   "cell_type": "markdown",
   "metadata": {
    "id": "O5JOGnXjZLT_"
   },
   "source": [
    "# 4. Create an empty array of zeros called training_data that will eventually store the percent green and percent blue values."
   ]
  },
  {
   "cell_type": "code",
   "execution_count": 7,
   "metadata": {
    "colab": {
     "base_uri": "https://localhost:8080/",
     "height": 0
    },
    "id": "FS7FPLVH3X0T",
    "outputId": "11d089af-af82-475a-9407-ae8c6560fd50"
   },
   "outputs": [],
   "source": [
    "training_data = np.zeros((66,2))\n",
    "#training_data"
   ]
  },
  {
   "cell_type": "markdown",
   "metadata": {
    "id": "fcsMdsKDZFK8"
   },
   "source": [
    "# 5. Now fill the training_data array with the proper values for each image\n"
   ]
  },
  {
   "cell_type": "code",
   "execution_count": 8,
   "metadata": {
    "colab": {
     "base_uri": "https://localhost:8080/",
     "height": 0
    },
    "id": "VEGqhYcgRqLz",
    "outputId": "d45287b4-fa17-4acc-e4ef-915009d9d0bd"
   },
   "outputs": [],
   "source": [
    "for i in range(66):\n",
    "    training_data[i,0] = normal_skin[i]\n",
    "    training_data[i,1] = burn_skin[i]\n",
    "# print(training_data)"
   ]
  },
  {
   "cell_type": "markdown",
   "metadata": {
    "id": "mLLRrvPXY-0_"
   },
   "source": [
    "# 6. Create your classifier."
   ]
  },
  {
   "cell_type": "code",
   "execution_count": 9,
   "metadata": {
    "colab": {
     "base_uri": "https://localhost:8080/",
     "height": 0
    },
    "id": "8-NPn0i8RvP_",
    "outputId": "0a7f4582-663f-4a6e-adf6-2f1dce4306f9"
   },
   "outputs": [
    {
     "data": {
      "text/plain": [
       "KNeighborsClassifier(n_neighbors=1, weights='distance')"
      ]
     },
     "execution_count": 9,
     "metadata": {},
     "output_type": "execute_result"
    }
   ],
   "source": [
    "from sklearn import neighbors\n",
    "k1 = neighbors.KNeighborsClassifier(n_neighbors=1,weights='distance')\n",
    "k1.fit(training_data, training_target)"
   ]
  },
  {
   "cell_type": "markdown",
   "metadata": {
    "id": "3vuBsOAoYQoc"
   },
   "source": [
    "# 7. Train your classifier"
   ]
  },
  {
   "cell_type": "code",
   "execution_count": 10,
   "metadata": {
    "id": "UjJ9FW8kRx2F"
   },
   "outputs": [],
   "source": [
    "# Old solution\n",
    "\n",
    "# test = ['nimg7.jpeg','nimg8.jpeg','img61.jpg','img62.jpg','img63.jpg','img64.jpg','img65.jpg','img66.jpg','img67.jpg','img68.jpg','img69.jpg','img70.jpg',\n",
    "#                 'img71.jpg','img72.jpg','img73.jpg','img74.jpg','img75.jpg','img76.jpg','img77.jpg','img78.jpg','img79.jpg','img80.jpg',\n",
    "#                ]\n",
    "\n",
    "# New solution\n",
    "\n",
    "# Glob for all JPEGs.\n",
    "test = glob.glob('./burn_images/Testing_data/*')"
   ]
  },
  {
   "cell_type": "code",
   "execution_count": 11,
   "metadata": {
    "id": "tfL5Q8XmR0fR"
   },
   "outputs": [],
   "source": [
    "test_normal=[]\n",
    "test_burn=[]"
   ]
  },
  {
   "cell_type": "code",
   "execution_count": 12,
   "metadata": {
    "id": "mmJ-Hlc8NJmj"
   },
   "outputs": [],
   "source": [
    "for image in test:\n",
    "    img = mpimg.imread(image)\n",
    "    RGBtuple = np.array(img).mean(axis=(0,1))\n",
    "    averageRed = RGBtuple[0]\n",
    "    averageGreen = RGBtuple[1]\n",
    "    averageBlue = RGBtuple[2]\n",
    "    percentage_green = averageGreen/(averageGreen+averageBlue+averageRed)\n",
    "    percentage_blue = averageBlue/(averageGreen+averageBlue+averageRed)\n",
    "    test_normal.append(percentage_green)\n",
    "    test_burn.append(percentage_blue)"
   ]
  },
  {
   "cell_type": "markdown",
   "metadata": {
    "id": "6bP2wL5oYFuC"
   },
   "source": [
    "# 8. Creating an empty test_data array and fill it with the proper values for each test image"
   ]
  },
  {
   "cell_type": "code",
   "execution_count": 13,
   "metadata": {
    "colab": {
     "base_uri": "https://localhost:8080/",
     "height": 0
    },
    "id": "Fu4SQVlyR6KX",
    "outputId": "db6e61c0-e3e3-4694-e3e5-ea2f25c8becb"
   },
   "outputs": [],
   "source": [
    "import numpy as np\n",
    "test_data = np.zeros((22,2))\n",
    "for i in range(22):\n",
    "    test_data[i,0] = test_normal[i]\n",
    "    test_data[i,1] = test_burn[i]\n",
    "#print(test_data)"
   ]
  },
  {
   "cell_type": "markdown",
   "metadata": {
    "id": "Yi6cAEkaXEdI"
   },
   "source": [
    "# 9.Predict the class of the test images and Print the prediction from the test images"
   ]
  },
  {
   "cell_type": "code",
   "execution_count": 14,
   "metadata": {
    "colab": {
     "base_uri": "https://localhost:8080/",
     "height": 0
    },
    "id": "fyKbKaxaR9sY",
    "outputId": "7ce5a333-f52a-48c5-ccdd-6a44187eaf7f"
   },
   "outputs": [
    {
     "name": "stdout",
     "output_type": "stream",
     "text": [
      "['normal' 'burn' 'burn' 'burn' 'burn' 'burn' 'burn' 'burn' 'burn' 'burn'\n",
      " 'burn' 'burn' 'burn' 'burn' 'burn' 'burn' 'burn' 'burn' 'burn' 'burn'\n",
      " 'burn' 'burn']\n"
     ]
    }
   ],
   "source": [
    "k1_pred = k1.predict(test_data)\n",
    "print(k1_pred)"
   ]
  },
  {
   "cell_type": "markdown",
   "metadata": {
    "id": "FlqQ8hYLXlFo"
   },
   "source": [
    "# 10. Actual and predicted results from the model"
   ]
  },
  {
   "cell_type": "code",
   "execution_count": 16,
   "metadata": {
    "colab": {
     "base_uri": "https://localhost:8080/",
     "height": 0
    },
    "id": "t0x6WqVCcyBK",
    "outputId": "2d61aa60-22f7-460b-db85-b33df0230a73"
   },
   "outputs": [
    {
     "name": "stdout",
     "output_type": "stream",
     "text": [
      "20\n",
      "1\n",
      "1\n",
      "0\n"
     ]
    }
   ],
   "source": [
    "# Old solution\n",
    "\n",
    "# print(\"Prediction:\",k1_pred)\n",
    "# print()\n",
    "# print(\"Actual: normal,normal,burn,burn,burn,burn,burn,burn,burn,burn,burn,burn,burn,burn,burn,burn,burn,burn,burn,burn,burn,burn\")\n",
    "\n",
    "# New solution\n",
    "\n",
    "# Define the four outcomes.\n",
    "true_positive = 0\n",
    "false_positive = 0\n",
    "true_negative = 0\n",
    "false_negative = 0\n",
    "\n",
    "# Define a truth list.\n",
    "truth_list = ['normal', 'normal', \n",
    "              'burn', 'burn', 'burn', \n",
    "              'burn', 'burn', 'burn', \n",
    "              'burn', 'burn', 'burn',\n",
    "              'burn', 'burn', 'burn', \n",
    "              'burn', 'burn', 'burn', \n",
    "              'burn', 'burn', 'burn', \n",
    "              'burn', 'burn']\n",
    "\n",
    "# Go over the predictions and classify each predicted label.\n",
    "for i in range(len(k1_pred)):\n",
    "    \n",
    "    if k1_pred[i] == 'burn' and truth_list[i] == 'burn':\n",
    "        true_positive += 1\n",
    "    \n",
    "    if k1_pred[i] == 'burn' and truth_list[i] == 'normal':\n",
    "        false_positive += 1\n",
    "        \n",
    "    if k1_pred[i] == 'normal' and truth_list[i] == 'normal':\n",
    "        true_negative += 1\n",
    "    \n",
    "    if k1_pred[i] == 'normal' and truth_list[i] == 'burn':\n",
    "        false_negative += 1\n",
    "\n",
    "print(true_positive)\n",
    "print(false_positive)\n",
    "print(true_negative)\n",
    "print(false_negative)    "
   ]
  },
  {
   "cell_type": "markdown",
   "metadata": {
    "id": "M9qbBNwJOjZ8"
   },
   "source": [
    "One of the normal image was classified as burn image"
   ]
  }
 ],
 "metadata": {
  "colab": {
   "collapsed_sections": [],
   "name": "Assignment10_ImageClassification_BurnImages_and_normalImages.ipynb",
   "provenance": []
  },
  "kernelspec": {
   "display_name": "Python 3 (ipykernel)",
   "language": "python",
   "name": "python3"
  },
  "language_info": {
   "codemirror_mode": {
    "name": "ipython",
    "version": 3
   },
   "file_extension": ".py",
   "mimetype": "text/x-python",
   "name": "python",
   "nbconvert_exporter": "python",
   "pygments_lexer": "ipython3",
   "version": "3.10.5"
  }
 },
 "nbformat": 4,
 "nbformat_minor": 1
}
