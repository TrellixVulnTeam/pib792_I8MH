{
 "cells": [
  {
   "cell_type": "markdown",
   "id": "e4533dff",
   "metadata": {},
   "source": [
    "# Lab 5"
   ]
  },
  {
   "cell_type": "code",
   "execution_count": 1,
   "id": "e9a0cbbe",
   "metadata": {},
   "outputs": [
    {
     "ename": "ModuleNotFoundError",
     "evalue": "No module named 'library'",
     "output_type": "error",
     "traceback": [
      "\u001b[0;31m---------------------------------------------------------------------------\u001b[0m",
      "\u001b[0;31mModuleNotFoundError\u001b[0m                       Traceback (most recent call last)",
      "Input \u001b[0;32mIn [1]\u001b[0m, in \u001b[0;36m<cell line: 4>\u001b[0;34m()\u001b[0m\n\u001b[1;32m      1\u001b[0m \u001b[38;5;66;03m# Imports (should be alphabetized)\u001b[39;00m\n\u001b[1;32m      2\u001b[0m \n\u001b[1;32m      3\u001b[0m \u001b[38;5;66;03m# Relative imports first\u001b[39;00m\n\u001b[0;32m----> 4\u001b[0m \u001b[38;5;28;01mfrom\u001b[39;00m \u001b[38;5;21;01mlibrary\u001b[39;00m\u001b[38;5;21;01m.\u001b[39;00m\u001b[38;5;21;01mpython\u001b[39;00m \u001b[38;5;28;01mimport\u001b[39;00m OSUtils\n\u001b[1;32m      5\u001b[0m \u001b[38;5;28;01mfrom\u001b[39;00m \u001b[38;5;21;01mlibrary\u001b[39;00m\u001b[38;5;21;01m.\u001b[39;00m\u001b[38;5;21;01mpython\u001b[39;00m \u001b[38;5;28;01mimport\u001b[39;00m GenomeUtils\n\u001b[1;32m      6\u001b[0m \u001b[38;5;28;01mfrom\u001b[39;00m \u001b[38;5;21;01mlibrary\u001b[39;00m\u001b[38;5;21;01m.\u001b[39;00m\u001b[38;5;21;01mpython\u001b[39;00m \u001b[38;5;28;01mimport\u001b[39;00m RequestUtils\n",
      "\u001b[0;31mModuleNotFoundError\u001b[0m: No module named 'library'"
     ]
    }
   ],
   "source": [
    "# Imports (should be alphabetized)\n",
    "\n",
    "# Relative imports first\n",
    "from ..library.python import OSUtils\n",
    "from library.python import GenomeUtils\n",
    "from library.python import RequestUtils\n",
    "\n",
    "# Globbing (file pattern searching)\n",
    "import glob\n",
    "\n",
    "# File I/O\n",
    "import os\n",
    "\n",
    "# Plotting\n",
    "import matplotlib.pyplot as plt\n",
    "import numpy as np\n",
    "\n",
    "# # Regular expressions\n",
    "# import re\n",
    "\n",
    "# System calls\n",
    "import subprocess\n",
    "\n",
    "# Batch IDs\n",
    "import uuid"
   ]
  },
  {
   "cell_type": "code",
   "execution_count": null,
   "id": "302bc969",
   "metadata": {},
   "outputs": [],
   "source": [
    "\n",
    "\n",
    "\n",
    "\n",
    "# --- !!! IMPORTANT !!! --- #\n",
    "\n",
    "\n",
    "\n",
    "\n",
    "# Set the home directory.\n",
    "home_directory = '/home/aeros/'\n",
    "\n",
    "\n",
    "\n"
   ]
  },
  {
   "cell_type": "code",
   "execution_count": 9,
   "id": "d23d9051",
   "metadata": {},
   "outputs": [],
   "source": [
    "\n",
    "\n",
    "\n",
    "\n",
    "# --- !!! IMPORTANT !!! --- #\n",
    "\n",
    "\n",
    "\n",
    "\n",
    "# Set the working directory.\n",
    "\n",
    "# Path must be absolute, cannot use '~/analyses'.\n",
    "os.chdir(home_directory + 'analyses/lab_5/')\n",
    "\n",
    "\n",
    "\n"
   ]
  },
  {
   "cell_type": "code",
   "execution_count": 10,
   "id": "7ed63f15",
   "metadata": {},
   "outputs": [],
   "source": [
    "# First, define a batch ID.\n",
    "# Note the str(batch_id) typecast.\n",
    "batch_id = str(uuid.uuid4())"
   ]
  },
  {
   "cell_type": "code",
   "execution_count": 11,
   "id": "c3f396e6",
   "metadata": {},
   "outputs": [],
   "source": [
    "# Create a variable to hold the batch folder.\n",
    "batch_folder = os.getcwd() + '/batches/' + batch_id\n",
    "\n",
    "# Create the batch folder and enter it.\n",
    "os.mkdir(batch_folder)\n",
    "os.chdir(batch_folder)"
   ]
  },
  {
   "cell_type": "code",
   "execution_count": 12,
   "id": "53aa6c01",
   "metadata": {},
   "outputs": [
    {
     "name": "stdout",
     "output_type": "stream",
     "text": [
      "/home/aeros/analyses/lab_4/batches/2bd8a995-8cdc-4fb1-a9a5-b8b01aa1b706\n"
     ]
    }
   ],
   "source": [
    "# Make sure we're in the right folder.\n",
    "print(os.getcwd())"
   ]
  },
  {
   "cell_type": "markdown",
   "id": "659171bd",
   "metadata": {},
   "source": [
    "# Step 1 - Get the data from NIH"
   ]
  }
 ],
 "metadata": {
  "kernelspec": {
   "display_name": "pib792",
   "language": "python",
   "name": "pib792"
  },
  "language_info": {
   "codemirror_mode": {
    "name": "ipython",
    "version": 3
   },
   "file_extension": ".py",
   "mimetype": "text/x-python",
   "name": "python",
   "nbconvert_exporter": "python",
   "pygments_lexer": "ipython3",
   "version": "3.10.5"
  }
 },
 "nbformat": 4,
 "nbformat_minor": 5
}
