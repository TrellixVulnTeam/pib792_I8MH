{
 "cells": [
  {
   "cell_type": "markdown",
   "id": "e4533dff",
   "metadata": {},
   "source": [
    "# Lab 5"
   ]
  },
  {
   "cell_type": "code",
   "execution_count": 38,
   "id": "e9a0cbbe",
   "metadata": {},
   "outputs": [],
   "source": [
    "# Imports (should be alphabetized)\n",
    "\n",
    "# Relative imports first\n",
    "from library.python import OSUtils\n",
    "from library.python import GenomeUtils\n",
    "from library.python import RequestUtils\n",
    "\n",
    "# Globbing (file pattern searching)\n",
    "import glob\n",
    "\n",
    "# File I/O\n",
    "import os\n",
    "\n",
    "# Plotting\n",
    "import matplotlib.pyplot as plt\n",
    "import numpy as np\n",
    "\n",
    "# # Regular expressions\n",
    "# import re\n",
    "\n",
    "# System calls\n",
    "import subprocess\n",
    "\n",
    "# Batch IDs\n",
    "import uuid"
   ]
  },
  {
   "cell_type": "code",
   "execution_count": 39,
   "id": "302bc969",
   "metadata": {},
   "outputs": [],
   "source": [
    "\n",
    "\n",
    "\n",
    "\n",
    "# --- !!! IMPORTANT !!! --- #\n",
    "\n",
    "\n",
    "\n",
    "\n",
    "# Set the home directory.\n",
    "home_directory = '/home/aeros/'\n",
    "\n",
    "# Set the library directory.\n",
    "\n",
    "# Note that we did not do this in the\n",
    "# Lab 4 notebook.\n",
    "library_directory = '/home/aeros/analyses/git_repos/pib792/lab_5/library/'\n",
    "\n",
    "\n",
    "\n"
   ]
  },
  {
   "cell_type": "code",
   "execution_count": 40,
   "id": "d23d9051",
   "metadata": {},
   "outputs": [],
   "source": [
    "\n",
    "\n",
    "\n",
    "\n",
    "# --- !!! IMPORTANT !!! --- #\n",
    "\n",
    "\n",
    "\n",
    "\n",
    "# Set the working directory.\n",
    "\n",
    "# Path must be absolute, cannot use '~/analyses'.\n",
    "os.chdir(home_directory + 'analyses/lab_5/')\n",
    "\n",
    "\n",
    "\n"
   ]
  },
  {
   "cell_type": "code",
   "execution_count": 41,
   "id": "7ed63f15",
   "metadata": {},
   "outputs": [],
   "source": [
    "# First, define a batch ID.\n",
    "# Note the str(batch_id) typecast.\n",
    "batch_id = str(uuid.uuid4())"
   ]
  },
  {
   "cell_type": "code",
   "execution_count": 42,
   "id": "c3f396e6",
   "metadata": {},
   "outputs": [],
   "source": [
    "# Create a variable to hold the batch folder.\n",
    "batch_folder = os.getcwd() + '/batches/' + batch_id\n",
    "\n",
    "# Create the batch folder and enter it.\n",
    "os.mkdir(batch_folder)\n",
    "os.chdir(batch_folder)"
   ]
  },
  {
   "cell_type": "code",
   "execution_count": 43,
   "id": "53aa6c01",
   "metadata": {},
   "outputs": [
    {
     "name": "stdout",
     "output_type": "stream",
     "text": [
      "/home/aeros/analyses/lab_5/batches/63dcccfb-3866-44d8-9d1a-e51abfe36fab\n"
     ]
    }
   ],
   "source": [
    "# Make sure we're in the right folder.\n",
    "print(os.getcwd())"
   ]
  },
  {
   "cell_type": "markdown",
   "id": "d99cd99f",
   "metadata": {},
   "source": [
    "# Step 1 - Motif search using a smaller consensus motif"
   ]
  },
  {
   "cell_type": "code",
   "execution_count": 44,
   "id": "5e4cc787",
   "metadata": {},
   "outputs": [],
   "source": [
    "# BLAST isn't great at short sequences (<= 20 nt).\n",
    "\n",
    "# So, let's use a specialized script for searching\n",
    "# for short sequence matches.\n",
    "\n",
    "# In effect, this means modifying Steps 3 and 4 from\n",
    "# the Lab 4 notebook and using a specialized R script\n",
    "# which searches for exact match short sequences."
   ]
  },
  {
   "cell_type": "code",
   "execution_count": 45,
   "id": "d2e9ace1",
   "metadata": {},
   "outputs": [],
   "source": [
    "# Set the output folder for this step.\n",
    "output_folder = os.getcwd() + '/r_small_motif/'"
   ]
  },
  {
   "cell_type": "code",
   "execution_count": 46,
   "id": "68e76b69",
   "metadata": {},
   "outputs": [],
   "source": [
    "# Create the output folder.\n",
    "os.mkdir(output_folder)"
   ]
  },
  {
   "cell_type": "code",
   "execution_count": 47,
   "id": "39efa9e2",
   "metadata": {},
   "outputs": [],
   "source": [
    "# Instantiate\n",
    "GU = GenomeUtils.GenomeUtils()"
   ]
  },
  {
   "cell_type": "code",
   "execution_count": 48,
   "id": "aed63ab8",
   "metadata": {},
   "outputs": [],
   "source": [
    "# Define the Mosi motif.\n",
    "mosi_motif = 'AGCCTAGCT'"
   ]
  },
  {
   "cell_type": "code",
   "execution_count": 64,
   "id": "3947bb1f",
   "metadata": {},
   "outputs": [
    {
     "name": "stdout",
     "output_type": "stream",
     "text": [
      "['ACCAATGTC', 'CGGGATTCT', 'TGGTGGACC', 'GCTAAGGTC', 'AGGCACGGG']\n"
     ]
    }
   ],
   "source": [
    "# Generate some random sequences.\n",
    "sequences = GU.random_motif(\n",
    "        n = 9,\n",
    "        t = 5\n",
    "    )"
   ]
  },
  {
   "cell_type": "code",
   "execution_count": 67,
   "id": "e6170ef0",
   "metadata": {},
   "outputs": [],
   "source": [
    "# We need to append the Mosi motif to the\n",
    "# random sequences so that we can call the\n",
    "# R script which searches for short matches.\n",
    "sequences.append(mosi_motif)"
   ]
  },
  {
   "cell_type": "code",
   "execution_count": 68,
   "id": "52c9fa8a",
   "metadata": {},
   "outputs": [
    {
     "data": {
      "text/plain": [
       "<Popen: returncode: None args: \"Rscript /home/aeros/analyses/git_repos/pib79...>"
      ]
     },
     "execution_count": 68,
     "metadata": {},
     "output_type": "execute_result"
    },
    {
     "name": "stdout",
     "output_type": "stream",
     "text": [
      "$genome\n",
      "[1] \"/home/aeros/analyses/genomes/a_thaliana/ensembl/Arabidopsis_thaliana.TAIR10.dna.toplevel.fa\"\n",
      "\n",
      "$motifs\n",
      "[1] \"ACCAATGTC\" \"CGGGATTCT\" \"TGGTGGACC\" \"GCTAAGGTC\" \"AGGCACGGG\" \"AGCCTAGCT\"\n",
      "[7] \"AGCCTAGCT\" \"AGCCTAGCT\"\n",
      "\n",
      "$`write-to`\n",
      "[1] \"/home/aeros/analyses/lab_5/batches/63dcccfb-3866-44d8-9d1a-e51abfe36fab/treatment_match/\"\n",
      "\n",
      "$help\n",
      "[1] FALSE\n",
      "\n",
      "[[1]]\n",
      "NULL\n",
      "\n",
      "[[2]]\n",
      "NULL\n",
      "\n",
      "[[3]]\n",
      "NULL\n",
      "\n",
      "[[4]]\n",
      "NULL\n",
      "\n",
      "[[5]]\n",
      "NULL\n",
      "\n",
      "[[6]]\n",
      "NULL\n",
      "\n"
     ]
    }
   ],
   "source": [
    "# Try the sequences in the short sequence search R script.\n",
    "subprocess.Popen(\"Rscript \" \n",
    "                 + library_directory + 'R/small_motif_search.r -g ' \n",
    "                 + home_directory + 'analyses/genomes/a_thaliana/ensembl/Arabidopsis_thaliana.TAIR10.dna.toplevel.fa -m \\'' + ' '.join(sequences) + '\\' -w ' + output_folder, \n",
    "                shell = True)\n",
    "\n",
    "\n",
    "# Use the sequence as the output file name.\n",
    "# for sequence in fasta_files:\n",
    "#     GU.call_blast(\n",
    "#         db_path = blastdb,\n",
    "#         name = sequence.split('/')[-1],\n",
    "#         sequence = sequence,\n",
    "#         write_to = output_folder\n",
    "#     )"
   ]
  },
  {
   "cell_type": "markdown",
   "id": "47995cae",
   "metadata": {},
   "source": [
    "# Step 2 - See what matches between a given sequence and the experimental data"
   ]
  },
  {
   "cell_type": "code",
   "execution_count": 52,
   "id": "f7b93516",
   "metadata": {},
   "outputs": [],
   "source": [
    "# Set the output folder for this step.\n",
    "output_folder = os.getcwd() + '/treatment_match/'"
   ]
  },
  {
   "cell_type": "code",
   "execution_count": 53,
   "id": "84690872",
   "metadata": {},
   "outputs": [],
   "source": [
    "# Create the output folder.\n",
    "os.mkdir(output_folder)"
   ]
  },
  {
   "cell_type": "code",
   "execution_count": 62,
   "id": "ebfd402a",
   "metadata": {},
   "outputs": [],
   "source": [
    "# Define where the BLAST matches are as well\n",
    "# as the peaks file.\n",
    "blast_matches = os.getcwd() + '/r_small_motif/*.results'\n",
    "peaks = home_directory + 'analyses/lab_4/batches/2bd8a995-8cdc-4fb1-a9a5-b8b01aa1b706/peaks_by_category/*.peaks'"
   ]
  },
  {
   "cell_type": "code",
   "execution_count": 61,
   "id": "4075307f",
   "metadata": {},
   "outputs": [],
   "source": [
    "# Get the blast matches and the peaks files.\n",
    "match_list = []\n",
    "\n",
    "for m in glob.glob(blast_matches):\n",
    "    match_list.append(m)\n",
    "\n",
    "peaks_list = []\n",
    "\n",
    "for p in glob.glob(peaks):\n",
    "    peaks_list.append(p)"
   ]
  },
  {
   "cell_type": "code",
   "execution_count": 60,
   "id": "034a9e00",
   "metadata": {
    "scrolled": true
   },
   "outputs": [],
   "source": [
    "# Go over each BLAST matches file and compare\n",
    "# to each peaks file.\n",
    "\n",
    "# Note that the message \"Error in seq.default(start, stop) : 'from' must be of length 1\"\n",
    "# indicates that BLAST couldn't find any matches for\n",
    "# the given sequence m in match_list.\n",
    "for m in match_list:\n",
    "    for p in peaks_list:\n",
    "        subprocess.Popen(\"Rscript \" + home_directory + \"analyses/git_repos/pib792/lab_5/library/R/blast_to_peaks.r -b \" + m + \" -p \" + p + \" -w \" + output_folder, shell = True)"
   ]
  },
  {
   "cell_type": "code",
   "execution_count": null,
   "id": "799ed391",
   "metadata": {},
   "outputs": [],
   "source": [
    "# Next steps\n",
    "\n",
    "# Get the gene names by aligning previous step to modified Ensembl genome.\n",
    "\n",
    "# We can use the annotated genome provided \n",
    "# by Chris to find the specific genes that contained\n",
    "# the motifs searched for.\n",
    "\n",
    "# We already have an R script in the library folder that\n",
    "# can do this for us.\n",
    "\n",
    "# From gene name, get UniProt identifier\n",
    "\n",
    "# \n",
    "\n",
    "# Use UniProt identifier to pull PDB files for given gene\n",
    "\n",
    "# "
   ]
  }
 ],
 "metadata": {
  "kernelspec": {
   "display_name": "pib792",
   "language": "python",
   "name": "pib792"
  },
  "language_info": {
   "codemirror_mode": {
    "name": "ipython",
    "version": 3
   },
   "file_extension": ".py",
   "mimetype": "text/x-python",
   "name": "python",
   "nbconvert_exporter": "python",
   "pygments_lexer": "ipython3",
   "version": "3.10.5"
  }
 },
 "nbformat": 4,
 "nbformat_minor": 5
}
