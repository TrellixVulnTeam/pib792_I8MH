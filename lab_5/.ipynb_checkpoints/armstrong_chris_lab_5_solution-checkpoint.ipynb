{
 "cells": [
  {
   "cell_type": "markdown",
   "id": "e4533dff",
   "metadata": {},
   "source": [
    "# Lab 5"
   ]
  },
  {
   "cell_type": "code",
   "execution_count": 4,
   "id": "e9a0cbbe",
   "metadata": {},
   "outputs": [],
   "source": [
    "# Imports (should be alphabetized)\n",
    "\n",
    "# Relative imports first\n",
    "from library.python import OSUtils\n",
    "from library.python import GenomeUtils\n",
    "from library.python import RequestUtils\n",
    "\n",
    "# Globbing (file pattern searching)\n",
    "import glob\n",
    "\n",
    "# File I/O\n",
    "import os\n",
    "\n",
    "# Plotting\n",
    "import matplotlib.pyplot as plt\n",
    "import numpy as np\n",
    "\n",
    "# # Regular expressions\n",
    "# import re\n",
    "\n",
    "# System calls\n",
    "import subprocess\n",
    "\n",
    "# Batch IDs\n",
    "import uuid"
   ]
  },
  {
   "cell_type": "code",
   "execution_count": 5,
   "id": "302bc969",
   "metadata": {},
   "outputs": [],
   "source": [
    "\n",
    "\n",
    "\n",
    "\n",
    "# --- !!! IMPORTANT !!! --- #\n",
    "\n",
    "\n",
    "\n",
    "\n",
    "# Set the home directory.\n",
    "home_directory = '/home/aeros/'\n",
    "\n",
    "# Set the library directory.\n",
    "# Note that we did not do this in the\n",
    "# Lab 4 notebook.\n",
    "library_directory = '/home/aeros/analyses/git_repos/pib792/lab_5/library/'\n",
    "\n",
    "\n",
    "\n"
   ]
  },
  {
   "cell_type": "code",
   "execution_count": 8,
   "id": "d23d9051",
   "metadata": {},
   "outputs": [],
   "source": [
    "\n",
    "\n",
    "\n",
    "\n",
    "# --- !!! IMPORTANT !!! --- #\n",
    "\n",
    "\n",
    "\n",
    "\n",
    "# Set the working directory.\n",
    "\n",
    "# Path must be absolute, cannot use '~/analyses'.\n",
    "os.chdir(home_directory + 'analyses/lab_5/')\n",
    "\n",
    "\n",
    "\n"
   ]
  },
  {
   "cell_type": "code",
   "execution_count": 9,
   "id": "7ed63f15",
   "metadata": {},
   "outputs": [],
   "source": [
    "# First, define a batch ID.\n",
    "# Note the str(batch_id) typecast.\n",
    "batch_id = str(uuid.uuid4())"
   ]
  },
  {
   "cell_type": "code",
   "execution_count": 10,
   "id": "c3f396e6",
   "metadata": {},
   "outputs": [],
   "source": [
    "# Create a variable to hold the batch folder.\n",
    "batch_folder = os.getcwd() + '/batches/' + batch_id\n",
    "\n",
    "# Create the batch folder and enter it.\n",
    "os.mkdir(batch_folder)\n",
    "os.chdir(batch_folder)"
   ]
  },
  {
   "cell_type": "code",
   "execution_count": 11,
   "id": "53aa6c01",
   "metadata": {},
   "outputs": [
    {
     "name": "stdout",
     "output_type": "stream",
     "text": [
      "/home/aeros/analyses/lab_5/batches/a7ff0bba-2629-4dc5-8134-c020834ccd5c\n"
     ]
    }
   ],
   "source": [
    "# Make sure we're in the right folder.\n",
    "print(os.getcwd())"
   ]
  },
  {
   "cell_type": "markdown",
   "id": "d99cd99f",
   "metadata": {},
   "source": [
    "# Step 1 - Motif search using a smaller consensus motif"
   ]
  },
  {
   "cell_type": "code",
   "execution_count": 13,
   "id": "5e4cc787",
   "metadata": {},
   "outputs": [],
   "source": [
    "# BLAST isn't great at short sequences (<= 20 nt).\n",
    "\n",
    "# So, let's use a specialized script for searching\n",
    "# for short sequence matches.\n",
    "\n",
    "# In effect, this means modifying Steps 3 and 4 from\n",
    "# the Lab 4 notebook and using a specialized R script\n",
    "# which searches for exact match short sequences."
   ]
  },
  {
   "cell_type": "code",
   "execution_count": 22,
   "id": "d2e9ace1",
   "metadata": {},
   "outputs": [],
   "source": [
    "# Set the output folder for this step.\n",
    "output_folder = os.getcwd() + '/r_small_motif/'"
   ]
  },
  {
   "cell_type": "code",
   "execution_count": 23,
   "id": "68e76b69",
   "metadata": {},
   "outputs": [],
   "source": [
    "# Create the output folder.\n",
    "os.mkdir(output_folder)"
   ]
  },
  {
   "cell_type": "code",
   "execution_count": 25,
   "id": "39efa9e2",
   "metadata": {},
   "outputs": [],
   "source": [
    "# Instantiate\n",
    "GU = GenomeUtils.GenomeUtils()"
   ]
  },
  {
   "cell_type": "code",
   "execution_count": 27,
   "id": "aed63ab8",
   "metadata": {},
   "outputs": [],
   "source": [
    "# Write the Mosi sequence to file.\n",
    "GU.write_fastas(\n",
    "    custom_name = 'Mosi_sequence',\n",
    "    sequences = ['AGCCTAGCTG'],\n",
    "    where = output_folder\n",
    ")"
   ]
  },
  {
   "cell_type": "code",
   "execution_count": 28,
   "id": "3947bb1f",
   "metadata": {},
   "outputs": [],
   "source": [
    "# Write some random sequences to file.\n",
    "GU.write_fastas(\n",
    "    sequences = GU.random_motif(\n",
    "        n = 20,\n",
    "        t = 5\n",
    "    ),\n",
    "    where = output_folder\n",
    ")"
   ]
  },
  {
   "cell_type": "code",
   "execution_count": 29,
   "id": "72842b94",
   "metadata": {},
   "outputs": [],
   "source": [
    "# Define the FASTA files.\n",
    "fasta_files = glob.glob(output_folder + '*.fa')"
   ]
  },
  {
   "cell_type": "code",
   "execution_count": 30,
   "id": "52c9fa8a",
   "metadata": {},
   "outputs": [],
   "source": [
    "# Try the sequences in the short sequence search R script.\n",
    "\n",
    "# Use the sequence as the output file name.\n",
    "for sequence in fasta_files:\n",
    "    GU.call_blast(\n",
    "        db_path = blastdb,\n",
    "        name = sequence.split('/')[-1],\n",
    "        sequence = sequence,\n",
    "        write_to = output_folder\n",
    "    )"
   ]
  },
  {
   "cell_type": "markdown",
   "id": "659171bd",
   "metadata": {},
   "source": [
    "# Step 1 - Align the matches that we got in Lab 4"
   ]
  },
  {
   "cell_type": "code",
   "execution_count": 12,
   "id": "07b793d7",
   "metadata": {},
   "outputs": [],
   "source": [
    "# We can use the annotated genome provided \n",
    "# by Chris to find the specific genes that contained\n",
    "# the motifs searched for.\n",
    "\n",
    "# We already have an R script in the library folder that\n",
    "# can do this for us."
   ]
  },
  {
   "cell_type": "code",
   "execution_count": null,
   "id": "3df77628",
   "metadata": {},
   "outputs": [],
   "source": []
  }
 ],
 "metadata": {
  "kernelspec": {
   "display_name": "pib792",
   "language": "python",
   "name": "pib792"
  },
  "language_info": {
   "codemirror_mode": {
    "name": "ipython",
    "version": 3
   },
   "file_extension": ".py",
   "mimetype": "text/x-python",
   "name": "python",
   "nbconvert_exporter": "python",
   "pygments_lexer": "ipython3",
   "version": "3.10.5"
  }
 },
 "nbformat": 4,
 "nbformat_minor": 5
}
