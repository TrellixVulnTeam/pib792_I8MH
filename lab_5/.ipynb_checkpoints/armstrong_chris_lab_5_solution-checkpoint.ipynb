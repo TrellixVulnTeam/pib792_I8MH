{
 "cells": [
  {
   "cell_type": "markdown",
   "id": "e4533dff",
   "metadata": {},
   "source": [
    "# Lab 4"
   ]
  },
  {
   "cell_type": "code",
   "execution_count": 7,
   "id": "e9a0cbbe",
   "metadata": {},
   "outputs": [],
   "source": [
    "# Imports (should be alphabetized)\n",
    "\n",
    "# Relative imports first\n",
    "from library.python import OSUtils\n",
    "from library.python import GenomeUtils\n",
    "from library.python import RequestUtils\n",
    "\n",
    "# Globbing (file pattern searching)\n",
    "import glob\n",
    "\n",
    "# File I/O\n",
    "import os\n",
    "\n",
    "# Plotting\n",
    "import matplotlib.pyplot as plt\n",
    "import numpy as np\n",
    "\n",
    "# # Regular expressions\n",
    "# import re\n",
    "\n",
    "# System calls\n",
    "import subprocess\n",
    "\n",
    "# Batch IDs\n",
    "import uuid"
   ]
  },
  {
   "cell_type": "code",
   "execution_count": 8,
   "id": "302bc969",
   "metadata": {},
   "outputs": [],
   "source": [
    "\n",
    "\n",
    "\n",
    "\n",
    "# --- !!! IMPORTANT !!! --- #\n",
    "\n",
    "\n",
    "\n",
    "\n",
    "# Set the home directory.\n",
    "home_directory = '/home/aeros/'\n",
    "\n",
    "\n",
    "\n"
   ]
  },
  {
   "cell_type": "code",
   "execution_count": 9,
   "id": "d23d9051",
   "metadata": {},
   "outputs": [],
   "source": [
    "\n",
    "\n",
    "\n",
    "\n",
    "# --- !!! IMPORTANT !!! --- #\n",
    "\n",
    "\n",
    "\n",
    "\n",
    "# Set the working directory.\n",
    "\n",
    "# Path must be absolute, cannot use '~/analyses'.\n",
    "os.chdir(home_directory + 'analyses/lab_4/')\n",
    "\n",
    "\n",
    "\n"
   ]
  },
  {
   "cell_type": "code",
   "execution_count": 10,
   "id": "7ed63f15",
   "metadata": {},
   "outputs": [],
   "source": [
    "# First, define a batch ID.\n",
    "# Note the str(batch_id) typecast.\n",
    "batch_id = str(uuid.uuid4())"
   ]
  },
  {
   "cell_type": "code",
   "execution_count": 11,
   "id": "c3f396e6",
   "metadata": {},
   "outputs": [],
   "source": [
    "# Create a variable to hold the batch folder.\n",
    "batch_folder = os.getcwd() + '/batches/' + batch_id\n",
    "\n",
    "# Create the batch folder and enter it.\n",
    "os.mkdir(batch_folder)\n",
    "os.chdir(batch_folder)"
   ]
  },
  {
   "cell_type": "code",
   "execution_count": 12,
   "id": "53aa6c01",
   "metadata": {},
   "outputs": [
    {
     "name": "stdout",
     "output_type": "stream",
     "text": [
      "/home/aeros/analyses/lab_4/batches/2bd8a995-8cdc-4fb1-a9a5-b8b01aa1b706\n"
     ]
    }
   ],
   "source": [
    "# Make sure we're in the right folder.\n",
    "print(os.getcwd())"
   ]
  },
  {
   "cell_type": "markdown",
   "id": "659171bd",
   "metadata": {},
   "source": [
    "# Step 1 - Get the data from NIH"
   ]
  },
  {
   "cell_type": "code",
   "execution_count": 24,
   "id": "9202a6b7",
   "metadata": {},
   "outputs": [],
   "source": [
    "# Set where the BLAST database is.\n",
    "blastdb = home_directory + 'analyses/genomes/a_thaliana/blastdbs/blastdbs'"
   ]
  },
  {
   "cell_type": "code",
   "execution_count": 25,
   "id": "39efa9e2",
   "metadata": {},
   "outputs": [],
   "source": [
    "# Instantiate\n",
    "GU = GenomeUtils.GenomeUtils()"
   ]
  },
  {
   "cell_type": "code",
   "execution_count": 26,
   "id": "4acb9897",
   "metadata": {},
   "outputs": [],
   "source": [
    "# We have to tell the interpreter where BLAST is\n",
    "# because it was a custom build.\n",
    "GU.blast_path = home_directory + 'built/ncbi-blast-2.13.0+/'"
   ]
  },
  {
   "cell_type": "code",
   "execution_count": 27,
   "id": "aed63ab8",
   "metadata": {},
   "outputs": [],
   "source": [
    "# Write the Mosi sequence to file.\n",
    "GU.write_fastas(\n",
    "    custom_name = 'Mosi_sequence',\n",
    "    sequences = ['AGCCTAGCTG'],\n",
    "    where = output_folder\n",
    ")"
   ]
  },
  {
   "cell_type": "code",
   "execution_count": 28,
   "id": "3947bb1f",
   "metadata": {},
   "outputs": [],
   "source": [
    "# Write some random sequences to file.\n",
    "GU.write_fastas(\n",
    "    sequences = GU.random_motif(\n",
    "        n = 20,\n",
    "        t = 5\n",
    "    ),\n",
    "    where = output_folder\n",
    ")"
   ]
  },
  {
   "cell_type": "code",
   "execution_count": 29,
   "id": "72842b94",
   "metadata": {},
   "outputs": [],
   "source": [
    "# Define the FASTA files.\n",
    "fasta_files = glob.glob(output_folder + '*.fa')"
   ]
  },
  {
   "cell_type": "code",
   "execution_count": 30,
   "id": "52c9fa8a",
   "metadata": {},
   "outputs": [],
   "source": [
    "# Try the sequences against BlastDB.\n",
    "\n",
    "# Use the sequence as the output file name.\n",
    "for sequence in fasta_files:\n",
    "    GU.call_blast(\n",
    "        db_path = blastdb,\n",
    "        name = sequence.split('/')[-1],\n",
    "        sequence = sequence,\n",
    "        write_to = output_folder\n",
    "    )"
   ]
  },
  {
   "cell_type": "code",
   "execution_count": 31,
   "id": "5114e73b",
   "metadata": {},
   "outputs": [],
   "source": [
    "# TODO: Fix later to remove race condition!\n",
    "\n",
    "# Parse the BLAST output.\n",
    "for sequence in fasta_files:\n",
    "    GU.parse_blast(\n",
    "        where = sequence + '.BLAST.results',\n",
    "        write_to = output_folder\n",
    "    )"
   ]
  },
  {
   "cell_type": "markdown",
   "id": "47995cae",
   "metadata": {},
   "source": [
    "# Step 4 - See what matches between a given sequence and the experimental data"
   ]
  },
  {
   "cell_type": "code",
   "execution_count": 32,
   "id": "f7b93516",
   "metadata": {},
   "outputs": [],
   "source": [
    "# Set the output folder for this step.\n",
    "output_folder = os.getcwd() + '/treatment_match/'"
   ]
  },
  {
   "cell_type": "code",
   "execution_count": 33,
   "id": "84690872",
   "metadata": {},
   "outputs": [],
   "source": [
    "# Create the output folder.\n",
    "os.mkdir(output_folder)"
   ]
  },
  {
   "cell_type": "code",
   "execution_count": 34,
   "id": "ebfd402a",
   "metadata": {},
   "outputs": [],
   "source": [
    "# Define where the BLAST matches are as well\n",
    "# as the peaks file.\n",
    "blast_matches = os.getcwd() + '/blast/*.matches'\n",
    "peaks = os.getcwd() + '/peaks_by_category/*.peaks'"
   ]
  },
  {
   "cell_type": "code",
   "execution_count": 35,
   "id": "4075307f",
   "metadata": {},
   "outputs": [],
   "source": [
    "# Get the blast matches and the peaks files.\n",
    "match_list = []\n",
    "\n",
    "for m in glob.glob(blast_matches):\n",
    "    match_list.append(m)\n",
    "\n",
    "peaks_list = []\n",
    "\n",
    "for p in glob.glob(peaks):\n",
    "    peaks_list.append(p)"
   ]
  },
  {
   "cell_type": "code",
   "execution_count": 36,
   "id": "034a9e00",
   "metadata": {
    "scrolled": true
   },
   "outputs": [
    {
     "name": "stderr",
     "output_type": "stream",
     "text": [
      "Error in seq.default(start, stop) : 'from' must be of length 1\n",
      "Calls: [ -> [.data.table -> seq -> seq.default\n",
      "Execution halted\n",
      "Error in seq.default(start, stop) : 'from' must be of length 1\n",
      "Calls: [ -> [.data.table -> seq -> seq.default\n",
      "Execution halted\n",
      "Error in seq.default(start, stop) : 'from' must be of length 1\n",
      "Calls: [ -> [.data.table -> seq -> seq.default\n",
      "Execution halted\n"
     ]
    }
   ],
   "source": [
    "# Go over each BLAST matches file and compare\n",
    "# to each peaks file.\n",
    "\n",
    "# Note that the message \"Error in seq.default(start, stop) : 'from' must be of length 1\"\n",
    "# indicates that BLAST couldn't find any matches for\n",
    "# the given sequence m in match_list.\n",
    "for m in match_list:\n",
    "    for p in peaks_list:\n",
    "        subprocess.Popen(\"Rscript \" + home_directory + \"analyses/git_repos/pib792/lab_4/library/R/blast_to_peaks.r -b \" + m + \" -p \" + p + \" -w \" + output_folder, shell = True)"
   ]
  },
  {
   "cell_type": "code",
   "execution_count": null,
   "id": "b7a9b396",
   "metadata": {},
   "outputs": [],
   "source": []
  }
 ],
 "metadata": {
  "kernelspec": {
   "display_name": "pib792",
   "language": "python",
   "name": "pib792"
  },
  "language_info": {
   "codemirror_mode": {
    "name": "ipython",
    "version": 3
   },
   "file_extension": ".py",
   "mimetype": "text/x-python",
   "name": "python",
   "nbconvert_exporter": "python",
   "pygments_lexer": "ipython3",
   "version": "3.10.5"
  }
 },
 "nbformat": 4,
 "nbformat_minor": 5
}
